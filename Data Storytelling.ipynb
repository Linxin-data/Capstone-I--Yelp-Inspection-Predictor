{
 "cells": [
  {
   "cell_type": "code",
   "execution_count": 1,
   "metadata": {},
   "outputs": [
    {
     "name": "stderr",
     "output_type": "stream",
     "text": [
      "In C:\\Users\\Lam\\Anaconda3\\lib\\site-packages\\matplotlib\\mpl-data\\stylelib\\_classic_test.mplstyle: \n",
      "The savefig.frameon rcparam was deprecated in Matplotlib 3.1 and will be removed in 3.3.\n",
      "In C:\\Users\\Lam\\Anaconda3\\lib\\site-packages\\matplotlib\\mpl-data\\stylelib\\_classic_test.mplstyle: \n",
      "The verbose.level rcparam was deprecated in Matplotlib 3.1 and will be removed in 3.3.\n",
      "In C:\\Users\\Lam\\Anaconda3\\lib\\site-packages\\matplotlib\\mpl-data\\stylelib\\_classic_test.mplstyle: \n",
      "The verbose.fileo rcparam was deprecated in Matplotlib 3.1 and will be removed in 3.3.\n"
     ]
    }
   ],
   "source": [
    "import numpy as np\n",
    "import pandas as pd\n",
    "import matplotlib.pyplot as plt\n",
    "import seaborn as sns"
   ]
  },
  {
   "cell_type": "code",
   "execution_count": 4,
   "metadata": {},
   "outputs": [],
   "source": [
    "restaurants_path = 'restaurant_inspections.csv'\n",
    "establishments_path = 'restaurant_establishments.csv'\n",
    "violations_path = 'restaurant_violations.csv'\n",
    "categories_path = 'restaurant_categories.csv'\n",
    "cities_path = 'restaurant_cities.csv'"
   ]
  },
  {
   "cell_type": "code",
   "execution_count": 5,
   "metadata": {},
   "outputs": [],
   "source": [
    "cdf = pd.read_csv(cities_path, sep = ';', index_col = 0)\n",
    "cdf.drop(cdf.columns[cdf.columns.str.contains('unnamed',case = False)],axis = 1, inplace = True)\n",
    "#cdf.dropna(how='all', axis='columns')\n",
    "c_dict = dict(cdf)"
   ]
  },
  {
   "cell_type": "code",
   "execution_count": 6,
   "metadata": {},
   "outputs": [],
   "source": [
    "edf = pd.read_csv(establishments_path, sep=';', header=0)\n",
    "edf.drop(edf.columns[edf.columns.str.contains('unnamed',case = False)],axis = 1, inplace = True)\n",
    "edf = edf[edf['current_grade'].notna()]\n"
   ]
  },
  {
   "cell_type": "code",
   "execution_count": 7,
   "metadata": {},
   "outputs": [],
   "source": [
    "business_json_path = 'yelp_academic_dataset_business.json'\n",
    "#review_json_path = 'yelp_academic_dataset_review.json'\n",
    "bdf = pd.read_json(business_json_path, lines = True)\n",
    "#rdf = pd.read_json(review_json_path, lines = True)"
   ]
  },
  {
   "cell_type": "code",
   "execution_count": 8,
   "metadata": {},
   "outputs": [],
   "source": [
    "combined_df = bdf.merge(edf, how = 'inner', left_on = ['address', 'city'], right_on = ['address', 'city_name'])\n",
    "combined_df = combined_df.dropna(how='all')\n",
    "#combined_df.info()"
   ]
  },
  {
   "cell_type": "code",
   "execution_count": 9,
   "metadata": {},
   "outputs": [
    {
     "data": {
      "text/html": [
       "<div>\n",
       "<style scoped>\n",
       "    .dataframe tbody tr th:only-of-type {\n",
       "        vertical-align: middle;\n",
       "    }\n",
       "\n",
       "    .dataframe tbody tr th {\n",
       "        vertical-align: top;\n",
       "    }\n",
       "\n",
       "    .dataframe thead th {\n",
       "        text-align: right;\n",
       "    }\n",
       "</style>\n",
       "<table border=\"1\" class=\"dataframe\">\n",
       "  <thead>\n",
       "    <tr style=\"text-align: right;\">\n",
       "      <th></th>\n",
       "      <th>address</th>\n",
       "      <th>attributes</th>\n",
       "      <th>business_id</th>\n",
       "      <th>categories</th>\n",
       "      <th>city</th>\n",
       "      <th>hours</th>\n",
       "      <th>is_open</th>\n",
       "      <th>latitude_x</th>\n",
       "      <th>longitude_x</th>\n",
       "      <th>name</th>\n",
       "      <th>...</th>\n",
       "      <th>zip_code</th>\n",
       "      <th>nciaa</th>\n",
       "      <th>plan_review</th>\n",
       "      <th>record_status</th>\n",
       "      <th>current_grade</th>\n",
       "      <th>current_demerits</th>\n",
       "      <th>date_current</th>\n",
       "      <th>previous_grade</th>\n",
       "      <th>date_previous</th>\n",
       "      <th>search_text</th>\n",
       "    </tr>\n",
       "  </thead>\n",
       "  <tbody>\n",
       "    <tr>\n",
       "      <th>0</th>\n",
       "      <td>6055 E Lake Mead Blvd</td>\n",
       "      <td>{'BikeParking': 'True', 'BusinessParking': '{'...</td>\n",
       "      <td>tstimHoMcYbkSC4eBA1wEg</td>\n",
       "      <td>Mexican, Restaurants, Patisserie/Cake Shop, Fo...</td>\n",
       "      <td>Las Vegas</td>\n",
       "      <td>{'Monday': '11:0-21:0', 'Tuesday': '10:0-21:0'...</td>\n",
       "      <td>1</td>\n",
       "      <td>36.195615</td>\n",
       "      <td>-115.040529</td>\n",
       "      <td>Maria's Mexican Restaurant &amp; Bakery</td>\n",
       "      <td>...</td>\n",
       "      <td>89156-7801</td>\n",
       "      <td>Y</td>\n",
       "      <td>NaN</td>\n",
       "      <td>1</td>\n",
       "      <td>A</td>\n",
       "      <td>3.0</td>\n",
       "      <td>2019-09-19 00:00:00</td>\n",
       "      <td>A</td>\n",
       "      <td>2019-09-19 00:00:00</td>\n",
       "      <td>PT'S Pub PTS Pub</td>\n",
       "    </tr>\n",
       "    <tr>\n",
       "      <th>1</th>\n",
       "      <td>6055 E Lake Mead Blvd</td>\n",
       "      <td>{'BikeParking': 'True', 'BusinessParking': '{'...</td>\n",
       "      <td>tstimHoMcYbkSC4eBA1wEg</td>\n",
       "      <td>Mexican, Restaurants, Patisserie/Cake Shop, Fo...</td>\n",
       "      <td>Las Vegas</td>\n",
       "      <td>{'Monday': '11:0-21:0', 'Tuesday': '10:0-21:0'...</td>\n",
       "      <td>1</td>\n",
       "      <td>36.195615</td>\n",
       "      <td>-115.040529</td>\n",
       "      <td>Maria's Mexican Restaurant &amp; Bakery</td>\n",
       "      <td>...</td>\n",
       "      <td>89156-7801</td>\n",
       "      <td>Y</td>\n",
       "      <td>NaN</td>\n",
       "      <td>1</td>\n",
       "      <td>A</td>\n",
       "      <td>6.0</td>\n",
       "      <td>2019-09-19 00:00:00</td>\n",
       "      <td>A</td>\n",
       "      <td>2019-09-19 00:00:00</td>\n",
       "      <td>PT'S to Go PTS to Go</td>\n",
       "    </tr>\n",
       "    <tr>\n",
       "      <th>2</th>\n",
       "      <td>6055 E Lake Mead Blvd</td>\n",
       "      <td>{'RestaurantsTakeOut': 'True', 'BusinessAccept...</td>\n",
       "      <td>QWgGaMiZ7XxaJ6NMDCSthg</td>\n",
       "      <td>New Mexican Cuisine, Restaurants</td>\n",
       "      <td>Las Vegas</td>\n",
       "      <td>{'Monday': '9:0-21:0', 'Tuesday': '9:0-21:0', ...</td>\n",
       "      <td>1</td>\n",
       "      <td>36.195615</td>\n",
       "      <td>-115.040529</td>\n",
       "      <td>El Rey Del Machete</td>\n",
       "      <td>...</td>\n",
       "      <td>89156-7801</td>\n",
       "      <td>Y</td>\n",
       "      <td>NaN</td>\n",
       "      <td>1</td>\n",
       "      <td>A</td>\n",
       "      <td>3.0</td>\n",
       "      <td>2019-09-19 00:00:00</td>\n",
       "      <td>A</td>\n",
       "      <td>2019-09-19 00:00:00</td>\n",
       "      <td>PT'S Pub PTS Pub</td>\n",
       "    </tr>\n",
       "    <tr>\n",
       "      <th>3</th>\n",
       "      <td>6055 E Lake Mead Blvd</td>\n",
       "      <td>{'RestaurantsTakeOut': 'True', 'BusinessAccept...</td>\n",
       "      <td>QWgGaMiZ7XxaJ6NMDCSthg</td>\n",
       "      <td>New Mexican Cuisine, Restaurants</td>\n",
       "      <td>Las Vegas</td>\n",
       "      <td>{'Monday': '9:0-21:0', 'Tuesday': '9:0-21:0', ...</td>\n",
       "      <td>1</td>\n",
       "      <td>36.195615</td>\n",
       "      <td>-115.040529</td>\n",
       "      <td>El Rey Del Machete</td>\n",
       "      <td>...</td>\n",
       "      <td>89156-7801</td>\n",
       "      <td>Y</td>\n",
       "      <td>NaN</td>\n",
       "      <td>1</td>\n",
       "      <td>A</td>\n",
       "      <td>6.0</td>\n",
       "      <td>2019-09-19 00:00:00</td>\n",
       "      <td>A</td>\n",
       "      <td>2019-09-19 00:00:00</td>\n",
       "      <td>PT'S to Go PTS to Go</td>\n",
       "    </tr>\n",
       "    <tr>\n",
       "      <th>4</th>\n",
       "      <td>6055 E Lake Mead Blvd</td>\n",
       "      <td>{'RestaurantsPriceRange2': '2', 'OutdoorSeatin...</td>\n",
       "      <td>YoJt2bvCrYMSSyoeUO-YTg</td>\n",
       "      <td>Sports Bars, Pubs, Nightlife, Bars, Restaurant...</td>\n",
       "      <td>Las Vegas</td>\n",
       "      <td>{'Monday': '0:0-0:0', 'Tuesday': '0:0-0:0', 'W...</td>\n",
       "      <td>1</td>\n",
       "      <td>36.195615</td>\n",
       "      <td>-115.040529</td>\n",
       "      <td>PT's</td>\n",
       "      <td>...</td>\n",
       "      <td>89156-7801</td>\n",
       "      <td>Y</td>\n",
       "      <td>NaN</td>\n",
       "      <td>1</td>\n",
       "      <td>A</td>\n",
       "      <td>3.0</td>\n",
       "      <td>2019-09-19 00:00:00</td>\n",
       "      <td>A</td>\n",
       "      <td>2019-09-19 00:00:00</td>\n",
       "      <td>PT'S Pub PTS Pub</td>\n",
       "    </tr>\n",
       "    <tr>\n",
       "      <th>5</th>\n",
       "      <td>6055 E Lake Mead Blvd</td>\n",
       "      <td>{'RestaurantsPriceRange2': '2', 'OutdoorSeatin...</td>\n",
       "      <td>YoJt2bvCrYMSSyoeUO-YTg</td>\n",
       "      <td>Sports Bars, Pubs, Nightlife, Bars, Restaurant...</td>\n",
       "      <td>Las Vegas</td>\n",
       "      <td>{'Monday': '0:0-0:0', 'Tuesday': '0:0-0:0', 'W...</td>\n",
       "      <td>1</td>\n",
       "      <td>36.195615</td>\n",
       "      <td>-115.040529</td>\n",
       "      <td>PT's</td>\n",
       "      <td>...</td>\n",
       "      <td>89156-7801</td>\n",
       "      <td>Y</td>\n",
       "      <td>NaN</td>\n",
       "      <td>1</td>\n",
       "      <td>A</td>\n",
       "      <td>6.0</td>\n",
       "      <td>2019-09-19 00:00:00</td>\n",
       "      <td>A</td>\n",
       "      <td>2019-09-19 00:00:00</td>\n",
       "      <td>PT'S to Go PTS to Go</td>\n",
       "    </tr>\n",
       "    <tr>\n",
       "      <th>6</th>\n",
       "      <td>6055 E Lake Mead Blvd</td>\n",
       "      <td>{'BikeParking': 'True', 'RestaurantsReservatio...</td>\n",
       "      <td>TUpyKJFqL_ySZMo54pT-Sw</td>\n",
       "      <td>Juice Bars &amp; Smoothies, American (New), Food, ...</td>\n",
       "      <td>Las Vegas</td>\n",
       "      <td>{'Monday': '10:0-22:0', 'Tuesday': '10:0-22:0'...</td>\n",
       "      <td>1</td>\n",
       "      <td>36.195615</td>\n",
       "      <td>-115.040529</td>\n",
       "      <td>La Flor De Michoacan Restaurant</td>\n",
       "      <td>...</td>\n",
       "      <td>89156-7801</td>\n",
       "      <td>Y</td>\n",
       "      <td>NaN</td>\n",
       "      <td>1</td>\n",
       "      <td>A</td>\n",
       "      <td>3.0</td>\n",
       "      <td>2019-09-19 00:00:00</td>\n",
       "      <td>A</td>\n",
       "      <td>2019-09-19 00:00:00</td>\n",
       "      <td>PT'S Pub PTS Pub</td>\n",
       "    </tr>\n",
       "    <tr>\n",
       "      <th>7</th>\n",
       "      <td>6055 E Lake Mead Blvd</td>\n",
       "      <td>{'BikeParking': 'True', 'RestaurantsReservatio...</td>\n",
       "      <td>TUpyKJFqL_ySZMo54pT-Sw</td>\n",
       "      <td>Juice Bars &amp; Smoothies, American (New), Food, ...</td>\n",
       "      <td>Las Vegas</td>\n",
       "      <td>{'Monday': '10:0-22:0', 'Tuesday': '10:0-22:0'...</td>\n",
       "      <td>1</td>\n",
       "      <td>36.195615</td>\n",
       "      <td>-115.040529</td>\n",
       "      <td>La Flor De Michoacan Restaurant</td>\n",
       "      <td>...</td>\n",
       "      <td>89156-7801</td>\n",
       "      <td>Y</td>\n",
       "      <td>NaN</td>\n",
       "      <td>1</td>\n",
       "      <td>A</td>\n",
       "      <td>6.0</td>\n",
       "      <td>2019-09-19 00:00:00</td>\n",
       "      <td>A</td>\n",
       "      <td>2019-09-19 00:00:00</td>\n",
       "      <td>PT'S to Go PTS to Go</td>\n",
       "    </tr>\n",
       "    <tr>\n",
       "      <th>8</th>\n",
       "      <td>8751 W Charleston Blvd</td>\n",
       "      <td>{'ByAppointmentOnly': 'True', 'HairSpecializes...</td>\n",
       "      <td>5sFVttifV5ID8Gs0-iiAsA</td>\n",
       "      <td>Hair Loss Centers, Beauty &amp; Spas, Hair Stylist...</td>\n",
       "      <td>Las Vegas</td>\n",
       "      <td>{'Tuesday': '10:0-18:0', 'Wednesday': '10:0-18...</td>\n",
       "      <td>1</td>\n",
       "      <td>36.157546</td>\n",
       "      <td>-115.286064</td>\n",
       "      <td>Hair by Sharyn</td>\n",
       "      <td>...</td>\n",
       "      <td>89117-5480</td>\n",
       "      <td>Y</td>\n",
       "      <td>NaN</td>\n",
       "      <td>2</td>\n",
       "      <td>A</td>\n",
       "      <td>7.0</td>\n",
       "      <td>2011-01-19 00:00:00</td>\n",
       "      <td>P</td>\n",
       "      <td>2010-04-15 00:00:00</td>\n",
       "      <td>Body Spa West - Snack Bar Body Spa West  Snack...</td>\n",
       "    </tr>\n",
       "    <tr>\n",
       "      <th>9</th>\n",
       "      <td>8751 W Charleston Blvd</td>\n",
       "      <td>{'AcceptsInsurance': 'False', 'BusinessAccepts...</td>\n",
       "      <td>h0ODf_rHyeKegIWuhQ7VMg</td>\n",
       "      <td>Laser Hair Removal, Skin Care, Hair Removal, H...</td>\n",
       "      <td>Las Vegas</td>\n",
       "      <td>{'Monday': '0:0-0:0', 'Tuesday': '9:0-19:0', '...</td>\n",
       "      <td>1</td>\n",
       "      <td>36.157546</td>\n",
       "      <td>-115.286074</td>\n",
       "      <td>Kivera Laser Spa</td>\n",
       "      <td>...</td>\n",
       "      <td>89117-5480</td>\n",
       "      <td>Y</td>\n",
       "      <td>NaN</td>\n",
       "      <td>2</td>\n",
       "      <td>A</td>\n",
       "      <td>7.0</td>\n",
       "      <td>2011-01-19 00:00:00</td>\n",
       "      <td>P</td>\n",
       "      <td>2010-04-15 00:00:00</td>\n",
       "      <td>Body Spa West - Snack Bar Body Spa West  Snack...</td>\n",
       "    </tr>\n",
       "  </tbody>\n",
       "</table>\n",
       "<p>10 rows × 34 columns</p>\n",
       "</div>"
      ],
      "text/plain": [
       "                  address                                         attributes  \\\n",
       "0   6055 E Lake Mead Blvd  {'BikeParking': 'True', 'BusinessParking': '{'...   \n",
       "1   6055 E Lake Mead Blvd  {'BikeParking': 'True', 'BusinessParking': '{'...   \n",
       "2   6055 E Lake Mead Blvd  {'RestaurantsTakeOut': 'True', 'BusinessAccept...   \n",
       "3   6055 E Lake Mead Blvd  {'RestaurantsTakeOut': 'True', 'BusinessAccept...   \n",
       "4   6055 E Lake Mead Blvd  {'RestaurantsPriceRange2': '2', 'OutdoorSeatin...   \n",
       "5   6055 E Lake Mead Blvd  {'RestaurantsPriceRange2': '2', 'OutdoorSeatin...   \n",
       "6   6055 E Lake Mead Blvd  {'BikeParking': 'True', 'RestaurantsReservatio...   \n",
       "7   6055 E Lake Mead Blvd  {'BikeParking': 'True', 'RestaurantsReservatio...   \n",
       "8  8751 W Charleston Blvd  {'ByAppointmentOnly': 'True', 'HairSpecializes...   \n",
       "9  8751 W Charleston Blvd  {'AcceptsInsurance': 'False', 'BusinessAccepts...   \n",
       "\n",
       "              business_id                                         categories  \\\n",
       "0  tstimHoMcYbkSC4eBA1wEg  Mexican, Restaurants, Patisserie/Cake Shop, Fo...   \n",
       "1  tstimHoMcYbkSC4eBA1wEg  Mexican, Restaurants, Patisserie/Cake Shop, Fo...   \n",
       "2  QWgGaMiZ7XxaJ6NMDCSthg                   New Mexican Cuisine, Restaurants   \n",
       "3  QWgGaMiZ7XxaJ6NMDCSthg                   New Mexican Cuisine, Restaurants   \n",
       "4  YoJt2bvCrYMSSyoeUO-YTg  Sports Bars, Pubs, Nightlife, Bars, Restaurant...   \n",
       "5  YoJt2bvCrYMSSyoeUO-YTg  Sports Bars, Pubs, Nightlife, Bars, Restaurant...   \n",
       "6  TUpyKJFqL_ySZMo54pT-Sw  Juice Bars & Smoothies, American (New), Food, ...   \n",
       "7  TUpyKJFqL_ySZMo54pT-Sw  Juice Bars & Smoothies, American (New), Food, ...   \n",
       "8  5sFVttifV5ID8Gs0-iiAsA  Hair Loss Centers, Beauty & Spas, Hair Stylist...   \n",
       "9  h0ODf_rHyeKegIWuhQ7VMg  Laser Hair Removal, Skin Care, Hair Removal, H...   \n",
       "\n",
       "        city                                              hours  is_open  \\\n",
       "0  Las Vegas  {'Monday': '11:0-21:0', 'Tuesday': '10:0-21:0'...        1   \n",
       "1  Las Vegas  {'Monday': '11:0-21:0', 'Tuesday': '10:0-21:0'...        1   \n",
       "2  Las Vegas  {'Monday': '9:0-21:0', 'Tuesday': '9:0-21:0', ...        1   \n",
       "3  Las Vegas  {'Monday': '9:0-21:0', 'Tuesday': '9:0-21:0', ...        1   \n",
       "4  Las Vegas  {'Monday': '0:0-0:0', 'Tuesday': '0:0-0:0', 'W...        1   \n",
       "5  Las Vegas  {'Monday': '0:0-0:0', 'Tuesday': '0:0-0:0', 'W...        1   \n",
       "6  Las Vegas  {'Monday': '10:0-22:0', 'Tuesday': '10:0-22:0'...        1   \n",
       "7  Las Vegas  {'Monday': '10:0-22:0', 'Tuesday': '10:0-22:0'...        1   \n",
       "8  Las Vegas  {'Tuesday': '10:0-18:0', 'Wednesday': '10:0-18...        1   \n",
       "9  Las Vegas  {'Monday': '0:0-0:0', 'Tuesday': '9:0-19:0', '...        1   \n",
       "\n",
       "   latitude_x  longitude_x                                 name  \\\n",
       "0   36.195615  -115.040529  Maria's Mexican Restaurant & Bakery   \n",
       "1   36.195615  -115.040529  Maria's Mexican Restaurant & Bakery   \n",
       "2   36.195615  -115.040529                   El Rey Del Machete   \n",
       "3   36.195615  -115.040529                   El Rey Del Machete   \n",
       "4   36.195615  -115.040529                                 PT's   \n",
       "5   36.195615  -115.040529                                 PT's   \n",
       "6   36.195615  -115.040529      La Flor De Michoacan Restaurant   \n",
       "7   36.195615  -115.040529      La Flor De Michoacan Restaurant   \n",
       "8   36.157546  -115.286064                       Hair by Sharyn   \n",
       "9   36.157546  -115.286074                     Kivera Laser Spa   \n",
       "\n",
       "                         ...                            zip_code  nciaa  \\\n",
       "0                        ...                          89156-7801      Y   \n",
       "1                        ...                          89156-7801      Y   \n",
       "2                        ...                          89156-7801      Y   \n",
       "3                        ...                          89156-7801      Y   \n",
       "4                        ...                          89156-7801      Y   \n",
       "5                        ...                          89156-7801      Y   \n",
       "6                        ...                          89156-7801      Y   \n",
       "7                        ...                          89156-7801      Y   \n",
       "8                        ...                          89117-5480      Y   \n",
       "9                        ...                          89117-5480      Y   \n",
       "\n",
       "   plan_review record_status current_grade current_demerits  \\\n",
       "0          NaN             1             A              3.0   \n",
       "1          NaN             1             A              6.0   \n",
       "2          NaN             1             A              3.0   \n",
       "3          NaN             1             A              6.0   \n",
       "4          NaN             1             A              3.0   \n",
       "5          NaN             1             A              6.0   \n",
       "6          NaN             1             A              3.0   \n",
       "7          NaN             1             A              6.0   \n",
       "8          NaN             2             A              7.0   \n",
       "9          NaN             2             A              7.0   \n",
       "\n",
       "          date_current  previous_grade        date_previous  \\\n",
       "0  2019-09-19 00:00:00               A  2019-09-19 00:00:00   \n",
       "1  2019-09-19 00:00:00               A  2019-09-19 00:00:00   \n",
       "2  2019-09-19 00:00:00               A  2019-09-19 00:00:00   \n",
       "3  2019-09-19 00:00:00               A  2019-09-19 00:00:00   \n",
       "4  2019-09-19 00:00:00               A  2019-09-19 00:00:00   \n",
       "5  2019-09-19 00:00:00               A  2019-09-19 00:00:00   \n",
       "6  2019-09-19 00:00:00               A  2019-09-19 00:00:00   \n",
       "7  2019-09-19 00:00:00               A  2019-09-19 00:00:00   \n",
       "8  2011-01-19 00:00:00               P  2010-04-15 00:00:00   \n",
       "9  2011-01-19 00:00:00               P  2010-04-15 00:00:00   \n",
       "\n",
       "                                         search_text  \n",
       "0                                   PT'S Pub PTS Pub  \n",
       "1                               PT'S to Go PTS to Go  \n",
       "2                                   PT'S Pub PTS Pub  \n",
       "3                               PT'S to Go PTS to Go  \n",
       "4                                   PT'S Pub PTS Pub  \n",
       "5                               PT'S to Go PTS to Go  \n",
       "6                                   PT'S Pub PTS Pub  \n",
       "7                               PT'S to Go PTS to Go  \n",
       "8  Body Spa West - Snack Bar Body Spa West  Snack...  \n",
       "9  Body Spa West - Snack Bar Body Spa West  Snack...  \n",
       "\n",
       "[10 rows x 34 columns]"
      ]
     },
     "execution_count": 9,
     "metadata": {},
     "output_type": "execute_result"
    }
   ],
   "source": [
    "combined_df.head(10)"
   ]
  },
  {
   "cell_type": "code",
   "execution_count": 10,
   "metadata": {},
   "outputs": [
    {
     "name": "stdout",
     "output_type": "stream",
     "text": [
      "File directory: C:/Users/Lam/Documents/DCS/Capstone 1 Projects/Yelp Inspection Project/yelp_review.csv\n"
     ]
    }
   ],
   "source": [
    "DIR = 'C:/Users/Lam/Documents/DCS/Capstone 1 Projects/Yelp Inspection Project'\n",
    "FILE = '/yelp_review.csv'\n",
    "\n",
    "file = '{}{}'.format(DIR, FILE)\n",
    "\n",
    "print('File directory: {}'.format(file))"
   ]
  },
  {
   "cell_type": "code",
   "execution_count": 11,
   "metadata": {},
   "outputs": [
    {
     "name": "stdout",
     "output_type": "stream",
     "text": [
      "(8651, 42)\n",
      "(17600, 42)\n",
      "(26300, 42)\n",
      "(34954, 42)\n",
      "(43673, 42)\n",
      "(52140, 42)\n",
      "(61095, 42)\n",
      "(70004, 42)\n",
      "(78866, 42)\n",
      "(87791, 42)\n",
      "(96274, 42)\n",
      "(105423, 42)\n",
      "(114497, 42)\n",
      "(123567, 42)\n",
      "(132522, 42)\n",
      "(141670, 42)\n",
      "(150433, 42)\n",
      "(159239, 42)\n",
      "(168462, 42)\n",
      "(177372, 42)\n",
      "(186132, 42)\n",
      "(194668, 42)\n",
      "(203347, 42)\n",
      "(212541, 42)\n",
      "(221267, 42)\n",
      "(230073, 42)\n",
      "(238554, 42)\n",
      "(247105, 42)\n",
      "(255886, 42)\n",
      "(264588, 42)\n",
      "(273371, 42)\n",
      "(282188, 42)\n",
      "(290609, 42)\n",
      "(299202, 42)\n",
      "(307612, 42)\n",
      "(316499, 42)\n",
      "(325295, 42)\n",
      "(334368, 42)\n",
      "(343333, 42)\n",
      "(352160, 42)\n",
      "(360990, 42)\n",
      "(369535, 42)\n",
      "(378271, 42)\n",
      "(386549, 42)\n",
      "(395373, 42)\n",
      "(403985, 42)\n",
      "(412575, 42)\n",
      "(421617, 42)\n",
      "(430382, 42)\n",
      "(439163, 42)\n",
      "(447518, 42)\n",
      "(456019, 42)\n",
      "(461358, 42)\n"
     ]
    }
   ],
   "source": [
    "null_df = pd.DataFrame([])\n",
    "\n",
    "for chunk in pd.read_csv(file, chunksize=100000):\n",
    "    final_df = pd.merge(combined_df, chunk, how = 'inner', left_on = ['business_id'], right_on = ['business_id'])\n",
    "    null_df = null_df.append(final_df, ignore_index=True)\n",
    "    null_df.drop_duplicates(subset = \"review_id\", inplace=True)\n",
    "    print(null_df.shape)\n",
    "    #print(final_df.head())"
   ]
  },
  {
   "cell_type": "code",
   "execution_count": 12,
   "metadata": {},
   "outputs": [
    {
     "data": {
      "text/plain": [
       "Index(['address', 'attributes', 'business_id', 'categories', 'city', 'hours',\n",
       "       'is_open', 'latitude_x', 'longitude_x', 'name', 'postal_code',\n",
       "       'review_count', 'stars_x', 'state', 'permit_number', 'facility_id',\n",
       "       'owner_id', 'PE', 'restaurant_name', 'location_name', 'latitude_y',\n",
       "       'longitude_y', 'city_id', 'city_name', 'zip_code', 'nciaa',\n",
       "       'plan_review', 'record_status', 'current_grade', 'current_demerits',\n",
       "       'date_current', 'previous_grade', 'date_previous', 'search_text',\n",
       "       'review_id', 'user_id', 'stars_y', 'date', 'text', 'useful', 'funny',\n",
       "       'cool'],\n",
       "      dtype='object')"
      ]
     },
     "execution_count": 12,
     "metadata": {},
     "output_type": "execute_result"
    }
   ],
   "source": [
    "null_df.columns"
   ]
  },
  {
   "cell_type": "code",
   "execution_count": 28,
   "metadata": {},
   "outputs": [],
   "source": [
    "shortened_columns = ['business_id', 'name', 'address', 'postal_code', 'current_grade', 'current_demerits', 'date_current','review_id','text','stars_y']"
   ]
  },
  {
   "cell_type": "code",
   "execution_count": 29,
   "metadata": {},
   "outputs": [
    {
     "name": "stderr",
     "output_type": "stream",
     "text": [
      "C:\\Users\\Lam\\Anaconda3\\lib\\site-packages\\ipykernel_launcher.py:2: SettingWithCopyWarning: \n",
      "A value is trying to be set on a copy of a slice from a DataFrame.\n",
      "Try using .loc[row_indexer,col_indexer] = value instead\n",
      "\n",
      "See the caveats in the documentation: http://pandas.pydata.org/pandas-docs/stable/indexing.html#indexing-view-versus-copy\n",
      "  \n"
     ]
    }
   ],
   "source": [
    "story_df = null_df[shortened_columns]\n",
    "story_df['review length'] = story_df['text'].apply(len)"
   ]
  },
  {
   "cell_type": "code",
   "execution_count": 30,
   "metadata": {},
   "outputs": [
    {
     "data": {
      "text/html": [
       "<div>\n",
       "<style scoped>\n",
       "    .dataframe tbody tr th:only-of-type {\n",
       "        vertical-align: middle;\n",
       "    }\n",
       "\n",
       "    .dataframe tbody tr th {\n",
       "        vertical-align: top;\n",
       "    }\n",
       "\n",
       "    .dataframe thead th {\n",
       "        text-align: right;\n",
       "    }\n",
       "</style>\n",
       "<table border=\"1\" class=\"dataframe\">\n",
       "  <thead>\n",
       "    <tr style=\"text-align: right;\">\n",
       "      <th></th>\n",
       "      <th>business_id</th>\n",
       "      <th>name</th>\n",
       "      <th>address</th>\n",
       "      <th>postal_code</th>\n",
       "      <th>current_grade</th>\n",
       "      <th>current_demerits</th>\n",
       "      <th>date_current</th>\n",
       "      <th>review_id</th>\n",
       "      <th>text</th>\n",
       "      <th>stars_y</th>\n",
       "      <th>review length</th>\n",
       "    </tr>\n",
       "  </thead>\n",
       "  <tbody>\n",
       "    <tr>\n",
       "      <th>0</th>\n",
       "      <td>tstimHoMcYbkSC4eBA1wEg</td>\n",
       "      <td>Maria's Mexican Restaurant &amp; Bakery</td>\n",
       "      <td>6055 E Lake Mead Blvd</td>\n",
       "      <td>89156</td>\n",
       "      <td>A</td>\n",
       "      <td>3.0</td>\n",
       "      <td>2019-09-19 00:00:00</td>\n",
       "      <td>pUpR94RE8Ld9FcmJ7ByxJg</td>\n",
       "      <td>Legit Mexican food from a small homey shop.\\nW...</td>\n",
       "      <td>5</td>\n",
       "      <td>1328</td>\n",
       "    </tr>\n",
       "    <tr>\n",
       "      <th>1</th>\n",
       "      <td>tstimHoMcYbkSC4eBA1wEg</td>\n",
       "      <td>Maria's Mexican Restaurant &amp; Bakery</td>\n",
       "      <td>6055 E Lake Mead Blvd</td>\n",
       "      <td>89156</td>\n",
       "      <td>A</td>\n",
       "      <td>3.0</td>\n",
       "      <td>2019-09-19 00:00:00</td>\n",
       "      <td>FNKLKqez8KWqyWB_WJOjow</td>\n",
       "      <td>México lindo y querido, si muero lejos de ti, ...</td>\n",
       "      <td>5</td>\n",
       "      <td>3471</td>\n",
       "    </tr>\n",
       "    <tr>\n",
       "      <th>2</th>\n",
       "      <td>tstimHoMcYbkSC4eBA1wEg</td>\n",
       "      <td>Maria's Mexican Restaurant &amp; Bakery</td>\n",
       "      <td>6055 E Lake Mead Blvd</td>\n",
       "      <td>89156</td>\n",
       "      <td>A</td>\n",
       "      <td>3.0</td>\n",
       "      <td>2019-09-19 00:00:00</td>\n",
       "      <td>8ILxnnktxFKSEXWcj_-6kg</td>\n",
       "      <td>By far the best Mexican Restaurant I've been t...</td>\n",
       "      <td>5</td>\n",
       "      <td>306</td>\n",
       "    </tr>\n",
       "    <tr>\n",
       "      <th>3</th>\n",
       "      <td>tstimHoMcYbkSC4eBA1wEg</td>\n",
       "      <td>Maria's Mexican Restaurant &amp; Bakery</td>\n",
       "      <td>6055 E Lake Mead Blvd</td>\n",
       "      <td>89156</td>\n",
       "      <td>A</td>\n",
       "      <td>3.0</td>\n",
       "      <td>2019-09-19 00:00:00</td>\n",
       "      <td>FeF7GfYMkY5pcvm81uh14g</td>\n",
       "      <td>Anyplace that serves margaritas in pint mugs i...</td>\n",
       "      <td>4</td>\n",
       "      <td>289</td>\n",
       "    </tr>\n",
       "    <tr>\n",
       "      <th>4</th>\n",
       "      <td>tstimHoMcYbkSC4eBA1wEg</td>\n",
       "      <td>Maria's Mexican Restaurant &amp; Bakery</td>\n",
       "      <td>6055 E Lake Mead Blvd</td>\n",
       "      <td>89156</td>\n",
       "      <td>A</td>\n",
       "      <td>3.0</td>\n",
       "      <td>2019-09-19 00:00:00</td>\n",
       "      <td>eYJWULNbAek-KrKdMnEMEg</td>\n",
       "      <td>We enjoy eating at this Mexican Restaurant a c...</td>\n",
       "      <td>4</td>\n",
       "      <td>518</td>\n",
       "    </tr>\n",
       "  </tbody>\n",
       "</table>\n",
       "</div>"
      ],
      "text/plain": [
       "              business_id                                 name  \\\n",
       "0  tstimHoMcYbkSC4eBA1wEg  Maria's Mexican Restaurant & Bakery   \n",
       "1  tstimHoMcYbkSC4eBA1wEg  Maria's Mexican Restaurant & Bakery   \n",
       "2  tstimHoMcYbkSC4eBA1wEg  Maria's Mexican Restaurant & Bakery   \n",
       "3  tstimHoMcYbkSC4eBA1wEg  Maria's Mexican Restaurant & Bakery   \n",
       "4  tstimHoMcYbkSC4eBA1wEg  Maria's Mexican Restaurant & Bakery   \n",
       "\n",
       "                 address postal_code current_grade  current_demerits  \\\n",
       "0  6055 E Lake Mead Blvd       89156             A               3.0   \n",
       "1  6055 E Lake Mead Blvd       89156             A               3.0   \n",
       "2  6055 E Lake Mead Blvd       89156             A               3.0   \n",
       "3  6055 E Lake Mead Blvd       89156             A               3.0   \n",
       "4  6055 E Lake Mead Blvd       89156             A               3.0   \n",
       "\n",
       "          date_current               review_id  \\\n",
       "0  2019-09-19 00:00:00  pUpR94RE8Ld9FcmJ7ByxJg   \n",
       "1  2019-09-19 00:00:00  FNKLKqez8KWqyWB_WJOjow   \n",
       "2  2019-09-19 00:00:00  8ILxnnktxFKSEXWcj_-6kg   \n",
       "3  2019-09-19 00:00:00  FeF7GfYMkY5pcvm81uh14g   \n",
       "4  2019-09-19 00:00:00  eYJWULNbAek-KrKdMnEMEg   \n",
       "\n",
       "                                                text  stars_y  review length  \n",
       "0  Legit Mexican food from a small homey shop.\\nW...        5           1328  \n",
       "1  México lindo y querido, si muero lejos de ti, ...        5           3471  \n",
       "2  By far the best Mexican Restaurant I've been t...        5            306  \n",
       "3  Anyplace that serves margaritas in pint mugs i...        4            289  \n",
       "4  We enjoy eating at this Mexican Restaurant a c...        4            518  "
      ]
     },
     "execution_count": 30,
     "metadata": {},
     "output_type": "execute_result"
    }
   ],
   "source": [
    "story_df.head()"
   ]
  },
  {
   "cell_type": "markdown",
   "metadata": {},
   "source": [
    "Q: How does review length correlate with star ratings?"
   ]
  },
  {
   "cell_type": "code",
   "execution_count": 96,
   "metadata": {
    "scrolled": true
   },
   "outputs": [
    {
     "data": {
      "text/plain": [
       "<seaborn.axisgrid.FacetGrid at 0x5d1a64a8>"
      ]
     },
     "execution_count": 96,
     "metadata": {},
     "output_type": "execute_result"
    },
    {
     "data": {
      "image/png": "[encoded data removed]",
      "text/plain": [
       "<Figure size 1080x216 with 5 Axes>"
      ]
     },
     "metadata": {
      "needs_background": "light"
     },
     "output_type": "display_data"
    }
   ],
   "source": [
    "sns.set_style('white')\n",
    "%matplotlib inline\n",
    "g = sns.FacetGrid(story_df, col='stars_y')\n",
    "g.map(plt.hist, 'review length')"
   ]
  },
  {
   "cell_type": "markdown",
   "metadata": {},
   "source": [
    "R: It appears that while there is an increase of reviews less than 1000 words in reviews with 4 and 5 stars, there does not appear to be a trend between review length and star ratings. I had assumed that there would be an increase in review length if the star rating was low or high as people would have more to say when emotions are involved. I can go through the reviews and see what words were used for each review that may tell us why the review lengths did not change much. \n"
   ]
  },
  {
   "cell_type": "markdown",
   "metadata": {},
   "source": [
    "Q: Does current demerits correlate with review length?"
   ]
  },
  {
   "cell_type": "code",
   "execution_count": 123,
   "metadata": {},
   "outputs": [
    {
     "name": "stderr",
     "output_type": "stream",
     "text": [
      "C:\\Users\\Lam\\Anaconda3\\lib\\site-packages\\IPython\\core\\events.py:88: UserWarning: Creating legend with loc=\"best\" can be slow with large amounts of data.\n",
      "  func(*args, **kwargs)\n",
      "C:\\Users\\Lam\\Anaconda3\\lib\\site-packages\\IPython\\core\\events.py:88: UserWarning: Creating legend with loc=\"best\" can be slow with large amounts of data.\n",
      "  func(*args, **kwargs)\n",
      "C:\\Users\\Lam\\Anaconda3\\lib\\site-packages\\IPython\\core\\pylabtools.py:128: UserWarning: Creating legend with loc=\"best\" can be slow with large amounts of data.\n",
      "  fig.canvas.print_figure(bytes_io, **kw)\n",
      "C:\\Users\\Lam\\Anaconda3\\lib\\site-packages\\IPython\\core\\pylabtools.py:128: UserWarning: Creating legend with loc=\"best\" can be slow with large amounts of data.\n",
      "  fig.canvas.print_figure(bytes_io, **kw)\n",
      "C:\\Users\\Lam\\Anaconda3\\lib\\site-packages\\IPython\\core\\pylabtools.py:128: UserWarning: Creating legend with loc=\"best\" can be slow with large amounts of data.\n",
      "  fig.canvas.print_figure(bytes_io, **kw)\n",
      "C:\\Users\\Lam\\Anaconda3\\lib\\site-packages\\IPython\\core\\pylabtools.py:128: UserWarning: Creating legend with loc=\"best\" can be slow with large amounts of data.\n",
      "  fig.canvas.print_figure(bytes_io, **kw)\n",
      "C:\\Users\\Lam\\Anaconda3\\lib\\site-packages\\IPython\\core\\pylabtools.py:128: UserWarning: Creating legend with loc=\"best\" can be slow with large amounts of data.\n",
      "  fig.canvas.print_figure(bytes_io, **kw)\n",
      "C:\\Users\\Lam\\Anaconda3\\lib\\site-packages\\IPython\\core\\pylabtools.py:128: UserWarning: Creating legend with loc=\"best\" can be slow with large amounts of data.\n",
      "  fig.canvas.print_figure(bytes_io, **kw)\n",
      "C:\\Users\\Lam\\Anaconda3\\lib\\site-packages\\IPython\\core\\pylabtools.py:128: UserWarning: Creating legend with loc=\"best\" can be slow with large amounts of data.\n",
      "  fig.canvas.print_figure(bytes_io, **kw)\n"
     ]
    },
    {
     "data": {
      "image/png": "[encoded data removed]",
      "text/plain": [
       "<Figure size 432x288 with 1 Axes>"
      ]
     },
     "metadata": {
      "needs_background": "light"
     },
     "output_type": "display_data"
    }
   ],
   "source": [
    "X = story_df['review length']\n",
    "Y = story_df['current_demerits']\n",
    "\n",
    "\n",
    "g = sns.scatterplot(y='review length', x='current_demerits',\n",
    "                   hue='current_grade', data=story_df)\n",
    "#g.set(xscale='log')\n",
    "#plt.scatter(X,Y)\n",
    "#plt.show()"
   ]
  },
  {
   "cell_type": "markdown",
   "metadata": {},
   "source": [
    "R: As seen by this scatterplot, it seems that A grades tend to fall under 10 demerits, B from 10 to 20, C greater than 20 and X greater than 40. However, there seem to various outliers in the X grades as they are present in values under 30. This could be due to the notion that the ratings have not been updated in a while or they have failed inspection based on the violations they received. "
   ]
  },
  {
   "cell_type": "markdown",
   "metadata": {},
   "source": [
    "Q: Is there any relationship between review length and each grade?"
   ]
  },
  {
   "cell_type": "code",
   "execution_count": 91,
   "metadata": {},
   "outputs": [
    {
     "data": {
      "image/png": "[encoded data removed]",
      "text/plain": [
       "<Figure size 432x288 with 1 Axes>"
      ]
     },
     "metadata": {
      "needs_background": "light"
     },
     "output_type": "display_data"
    }
   ],
   "source": [
    "X = story_df['review length'].loc[story_df['current_grade'] == 'A']\n",
    "plt.hist(X, bins=100)\n",
    "plt.title('Review Length for A Grades')\n",
    "plt.xlabel('Review Length')\n",
    "plt.ylabel('Number of Reviews')\n",
    "plt.xlim(0,3000,50)\n",
    "plt.show()"
   ]
  },
  {
   "cell_type": "code",
   "execution_count": 92,
   "metadata": {},
   "outputs": [
    {
     "data": {
      "image/png": "[encoded data removed]",
      "text/plain": [
       "<Figure size 432x288 with 1 Axes>"
      ]
     },
     "metadata": {
      "needs_background": "light"
     },
     "output_type": "display_data"
    }
   ],
   "source": [
    "X = story_df['review length'].loc[story_df['current_grade'] == 'B']\n",
    "plt.hist(X, bins=100)\n",
    "plt.title('Review Length for B Grades')\n",
    "plt.xlabel('Review Length')\n",
    "plt.ylabel('Number of Reviews')\n",
    "plt.show()"
   ]
  },
  {
   "cell_type": "code",
   "execution_count": 95,
   "metadata": {},
   "outputs": [
    {
     "data": {
      "image/png": "[encoded data removed]",
      "text/plain": [
       "<Figure size 432x288 with 1 Axes>"
      ]
     },
     "metadata": {
      "needs_background": "light"
     },
     "output_type": "display_data"
    }
   ],
   "source": [
    "X = story_df['review length'].loc[story_df['current_grade'] == 'C']\n",
    "plt.hist(X, bins=100)\n",
    "plt.title('Review Length for B Grades')\n",
    "plt.xlabel('Review Length')\n",
    "plt.ylabel('Number of Reviews')\n",
    "plt.show()"
   ]
  },
  {
   "cell_type": "code",
   "execution_count": 97,
   "metadata": {},
   "outputs": [
    {
     "data": {
      "image/png": "[encoded data removed]",
      "text/plain": [
       "<Figure size 432x288 with 1 Axes>"
      ]
     },
     "metadata": {
      "needs_background": "light"
     },
     "output_type": "display_data"
    }
   ],
   "source": [
    "X = story_df['review length'].loc[story_df['current_grade'] == 'X']\n",
    "plt.hist(X, bins=100)\n",
    "plt.title('Review Length for X Grades')\n",
    "plt.xlabel('Review Length')\n",
    "plt.ylabel('Number of Reviews')\n",
    "plt.show()"
   ]
  },
  {
   "cell_type": "markdown",
   "metadata": {},
   "source": [
    "R: Looking at each letter grade's histogram, they all seem to have a similar shape of skewed to the right. There does not appear to be a correlation between review length and letter grades received. "
   ]
  },
  {
   "cell_type": "markdown",
   "metadata": {},
   "source": [
    "Q: What trends/relationships can you make to tell a compelling story?"
   ]
  },
  {
   "cell_type": "markdown",
   "metadata": {},
   "source": [
    "R: As seen through the various graphs above, quantitative graphs don't seem to tell us much about the story of the data. It may be better to dig deeper and figure out the qualitative aspects of the text to tell us something about the grades or demerits. "
   ]
  },
  {
   "cell_type": "code",
   "execution_count": null,
   "metadata": {},
   "outputs": [],
   "source": []
  },
  {
   "cell_type": "code",
   "execution_count": null,
   "metadata": {},
   "outputs": [],
   "source": []
  },
  {
   "cell_type": "code",
   "execution_count": null,
   "metadata": {},
   "outputs": [],
   "source": []
  },
  {
   "cell_type": "code",
   "execution_count": null,
   "metadata": {},
   "outputs": [],
   "source": []
  },
  {
   "cell_type": "code",
   "execution_count": null,
   "metadata": {},
   "outputs": [],
   "source": []
  },
  {
   "cell_type": "code",
   "execution_count": null,
   "metadata": {},
   "outputs": [],
   "source": []
  },
  {
   "cell_type": "code",
   "execution_count": null,
   "metadata": {},
   "outputs": [],
   "source": []
  },
  {
   "cell_type": "code",
   "execution_count": null,
   "metadata": {},
   "outputs": [],
   "source": []
  },
  {
   "cell_type": "code",
   "execution_count": null,
   "metadata": {},
   "outputs": [],
   "source": []
  },
  {
   "cell_type": "code",
   "execution_count": null,
   "metadata": {},
   "outputs": [],
   "source": []
  },
  {
   "cell_type": "code",
   "execution_count": null,
   "metadata": {},
   "outputs": [],
   "source": []
  },
  {
   "cell_type": "code",
   "execution_count": null,
   "metadata": {},
   "outputs": [],
   "source": []
  },
  {
   "cell_type": "code",
   "execution_count": null,
   "metadata": {},
   "outputs": [],
   "source": []
  },
  {
   "cell_type": "code",
   "execution_count": null,
   "metadata": {},
   "outputs": [],
   "source": []
  },
  {
   "cell_type": "code",
   "execution_count": null,
   "metadata": {},
   "outputs": [],
   "source": []
  },
  {
   "cell_type": "code",
   "execution_count": null,
   "metadata": {},
   "outputs": [],
   "source": []
  },
  {
   "cell_type": "code",
   "execution_count": null,
   "metadata": {},
   "outputs": [],
   "source": []
  },
  {
   "cell_type": "code",
   "execution_count": null,
   "metadata": {},
   "outputs": [],
   "source": []
  },
  {
   "cell_type": "code",
   "execution_count": null,
   "metadata": {},
   "outputs": [],
   "source": []
  },
  {
   "cell_type": "code",
   "execution_count": null,
   "metadata": {},
   "outputs": [],
   "source": []
  },
  {
   "cell_type": "code",
   "execution_count": null,
   "metadata": {},
   "outputs": [],
   "source": []
  },
  {
   "cell_type": "code",
   "execution_count": null,
   "metadata": {},
   "outputs": [],
   "source": []
  },
  {
   "cell_type": "code",
   "execution_count": null,
   "metadata": {},
   "outputs": [],
   "source": []
  },
  {
   "cell_type": "code",
   "execution_count": null,
   "metadata": {},
   "outputs": [],
   "source": []
  },
  {
   "cell_type": "code",
   "execution_count": null,
   "metadata": {},
   "outputs": [],
   "source": []
  },
  {
   "cell_type": "code",
   "execution_count": null,
   "metadata": {},
   "outputs": [],
   "source": []
  },
  {
   "cell_type": "code",
   "execution_count": null,
   "metadata": {},
   "outputs": [],
   "source": []
  },
  {
   "cell_type": "code",
   "execution_count": null,
   "metadata": {},
   "outputs": [],
   "source": []
  },
  {
   "cell_type": "code",
   "execution_count": null,
   "metadata": {},
   "outputs": [],
   "source": []
  },
  {
   "cell_type": "code",
   "execution_count": null,
   "metadata": {},
   "outputs": [],
   "source": []
  },
  {
   "cell_type": "code",
   "execution_count": null,
   "metadata": {},
   "outputs": [],
   "source": []
  },
  {
   "cell_type": "code",
   "execution_count": null,
   "metadata": {},
   "outputs": [],
   "source": []
  },
  {
   "cell_type": "code",
   "execution_count": null,
   "metadata": {},
   "outputs": [],
   "source": []
  },
  {
   "cell_type": "code",
   "execution_count": null,
   "metadata": {},
   "outputs": [],
   "source": []
  },
  {
   "cell_type": "code",
   "execution_count": null,
   "metadata": {},
   "outputs": [],
   "source": []
  }
 ],
 "metadata": {
  "kernelspec": {
   "display_name": "Python 3",
   "language": "python",
   "name": "python3"
  },
  "language_info": {
   "codemirror_mode": {
    "name": "ipython",
    "version": 3
   },
   "file_extension": ".py",
   "mimetype": "text/x-python",
   "name": "python",
   "nbconvert_exporter": "python",
   "pygments_lexer": "ipython3",
   "version": "3.7.1"
  }
 },
 "nbformat": 4,
 "nbformat_minor": 2
}
