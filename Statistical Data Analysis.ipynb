{
 "cells": [
  {
   "cell_type": "markdown",
   "metadata": {},
   "source": [
    "## Primary Questions(s):\n",
    "\n",
    "1. Does length of reviews affect current grade? To explore this, we can perform 2 sample t-tests between each grade combination.  \n"
   ]
  },
  {
   "cell_type": "code",
   "execution_count": 2,
   "metadata": {},
   "outputs": [],
   "source": [
    "import numpy as np\n",
    "import pandas as pd\n",
    "import matplotlib.pyplot as plt\n",
    "import seaborn as sns\n",
    "from scipy import stats\n",
    "from scipy.stats import norm\n",
    "import statsmodels\n",
    "%matplotlib inline"
   ]
  },
  {
   "cell_type": "code",
   "execution_count": 3,
   "metadata": {},
   "outputs": [],
   "source": [
    "restaurants_path = 'restaurant_inspections.csv'\n",
    "establishments_path = 'restaurant_establishments.csv'\n",
    "violations_path = 'restaurant_violations.csv'\n",
    "categories_path = 'restaurant_categories.csv'\n",
    "cities_path = 'restaurant_cities.csv'"
   ]
  },
  {
   "cell_type": "code",
   "execution_count": 4,
   "metadata": {},
   "outputs": [],
   "source": [
    "cdf = pd.read_csv(cities_path, sep = ';', index_col = 0)\n",
    "cdf.drop(cdf.columns[cdf.columns.str.contains('unnamed',case = False)],axis = 1, inplace = True)\n",
    "#cdf.dropna(how='all', axis='columns')\n",
    "c_dict = dict(cdf)"
   ]
  },
  {
   "cell_type": "code",
   "execution_count": 5,
   "metadata": {},
   "outputs": [],
   "source": [
    "edf = pd.read_csv(establishments_path, sep=';', header=0)\n",
    "edf.drop(edf.columns[edf.columns.str.contains('unnamed',case = False)],axis = 1, inplace = True)\n",
    "edf = edf[edf['current_grade'].notna()]\n"
   ]
  },
  {
   "cell_type": "code",
   "execution_count": 6,
   "metadata": {},
   "outputs": [],
   "source": [
    "business_json_path = 'yelp_academic_dataset_business.json'\n",
    "#review_json_path = 'yelp_academic_dataset_review.json'\n",
    "bdf = pd.read_json(business_json_path, lines = True)\n",
    "#rdf = pd.read_json(review_json_path, lines = True)"
   ]
  },
  {
   "cell_type": "code",
   "execution_count": 7,
   "metadata": {},
   "outputs": [],
   "source": [
    "combined_df = bdf.merge(edf, how = 'inner', left_on = ['address', 'city'], right_on = ['address', 'city_name'])\n",
    "combined_df = combined_df.dropna(how='all')\n",
    "#combined_df.info()"
   ]
  },
  {
   "cell_type": "code",
   "execution_count": 15,
   "metadata": {},
   "outputs": [
    {
     "data": {
      "text/html": [
       "<div>\n",
       "<style scoped>\n",
       "    .dataframe tbody tr th:only-of-type {\n",
       "        vertical-align: middle;\n",
       "    }\n",
       "\n",
       "    .dataframe tbody tr th {\n",
       "        vertical-align: top;\n",
       "    }\n",
       "\n",
       "    .dataframe thead th {\n",
       "        text-align: right;\n",
       "    }\n",
       "</style>\n",
       "<table border=\"1\" class=\"dataframe\">\n",
       "  <thead>\n",
       "    <tr style=\"text-align: right;\">\n",
       "      <th></th>\n",
       "      <th>address</th>\n",
       "      <th>attributes</th>\n",
       "      <th>business_id</th>\n",
       "      <th>categories</th>\n",
       "      <th>city</th>\n",
       "      <th>hours</th>\n",
       "      <th>is_open</th>\n",
       "      <th>latitude_x</th>\n",
       "      <th>longitude_x</th>\n",
       "      <th>name</th>\n",
       "      <th>...</th>\n",
       "      <th>zip_code</th>\n",
       "      <th>nciaa</th>\n",
       "      <th>plan_review</th>\n",
       "      <th>record_status</th>\n",
       "      <th>current_grade</th>\n",
       "      <th>current_demerits</th>\n",
       "      <th>date_current</th>\n",
       "      <th>previous_grade</th>\n",
       "      <th>date_previous</th>\n",
       "      <th>search_text</th>\n",
       "    </tr>\n",
       "  </thead>\n",
       "  <tbody>\n",
       "    <tr>\n",
       "      <th>0</th>\n",
       "      <td>6055 E Lake Mead Blvd</td>\n",
       "      <td>{'BikeParking': 'True', 'BusinessParking': '{'...</td>\n",
       "      <td>tstimHoMcYbkSC4eBA1wEg</td>\n",
       "      <td>Mexican, Restaurants, Patisserie/Cake Shop, Fo...</td>\n",
       "      <td>Las Vegas</td>\n",
       "      <td>{'Monday': '11:0-21:0', 'Tuesday': '10:0-21:0'...</td>\n",
       "      <td>1</td>\n",
       "      <td>36.195615</td>\n",
       "      <td>-115.040529</td>\n",
       "      <td>Maria's Mexican Restaurant &amp; Bakery</td>\n",
       "      <td>...</td>\n",
       "      <td>89156-7801</td>\n",
       "      <td>Y</td>\n",
       "      <td>NaN</td>\n",
       "      <td>1</td>\n",
       "      <td>A</td>\n",
       "      <td>3.0</td>\n",
       "      <td>2019-09-19 00:00:00</td>\n",
       "      <td>A</td>\n",
       "      <td>2019-09-19 00:00:00</td>\n",
       "      <td>PT'S Pub PTS Pub</td>\n",
       "    </tr>\n",
       "    <tr>\n",
       "      <th>1</th>\n",
       "      <td>6055 E Lake Mead Blvd</td>\n",
       "      <td>{'BikeParking': 'True', 'BusinessParking': '{'...</td>\n",
       "      <td>tstimHoMcYbkSC4eBA1wEg</td>\n",
       "      <td>Mexican, Restaurants, Patisserie/Cake Shop, Fo...</td>\n",
       "      <td>Las Vegas</td>\n",
       "      <td>{'Monday': '11:0-21:0', 'Tuesday': '10:0-21:0'...</td>\n",
       "      <td>1</td>\n",
       "      <td>36.195615</td>\n",
       "      <td>-115.040529</td>\n",
       "      <td>Maria's Mexican Restaurant &amp; Bakery</td>\n",
       "      <td>...</td>\n",
       "      <td>89156-7801</td>\n",
       "      <td>Y</td>\n",
       "      <td>NaN</td>\n",
       "      <td>1</td>\n",
       "      <td>A</td>\n",
       "      <td>6.0</td>\n",
       "      <td>2019-09-19 00:00:00</td>\n",
       "      <td>A</td>\n",
       "      <td>2019-09-19 00:00:00</td>\n",
       "      <td>PT'S to Go PTS to Go</td>\n",
       "    </tr>\n",
       "    <tr>\n",
       "      <th>2</th>\n",
       "      <td>6055 E Lake Mead Blvd</td>\n",
       "      <td>{'RestaurantsTakeOut': 'True', 'BusinessAccept...</td>\n",
       "      <td>QWgGaMiZ7XxaJ6NMDCSthg</td>\n",
       "      <td>New Mexican Cuisine, Restaurants</td>\n",
       "      <td>Las Vegas</td>\n",
       "      <td>{'Monday': '9:0-21:0', 'Tuesday': '9:0-21:0', ...</td>\n",
       "      <td>1</td>\n",
       "      <td>36.195615</td>\n",
       "      <td>-115.040529</td>\n",
       "      <td>El Rey Del Machete</td>\n",
       "      <td>...</td>\n",
       "      <td>89156-7801</td>\n",
       "      <td>Y</td>\n",
       "      <td>NaN</td>\n",
       "      <td>1</td>\n",
       "      <td>A</td>\n",
       "      <td>3.0</td>\n",
       "      <td>2019-09-19 00:00:00</td>\n",
       "      <td>A</td>\n",
       "      <td>2019-09-19 00:00:00</td>\n",
       "      <td>PT'S Pub PTS Pub</td>\n",
       "    </tr>\n",
       "    <tr>\n",
       "      <th>3</th>\n",
       "      <td>6055 E Lake Mead Blvd</td>\n",
       "      <td>{'RestaurantsTakeOut': 'True', 'BusinessAccept...</td>\n",
       "      <td>QWgGaMiZ7XxaJ6NMDCSthg</td>\n",
       "      <td>New Mexican Cuisine, Restaurants</td>\n",
       "      <td>Las Vegas</td>\n",
       "      <td>{'Monday': '9:0-21:0', 'Tuesday': '9:0-21:0', ...</td>\n",
       "      <td>1</td>\n",
       "      <td>36.195615</td>\n",
       "      <td>-115.040529</td>\n",
       "      <td>El Rey Del Machete</td>\n",
       "      <td>...</td>\n",
       "      <td>89156-7801</td>\n",
       "      <td>Y</td>\n",
       "      <td>NaN</td>\n",
       "      <td>1</td>\n",
       "      <td>A</td>\n",
       "      <td>6.0</td>\n",
       "      <td>2019-09-19 00:00:00</td>\n",
       "      <td>A</td>\n",
       "      <td>2019-09-19 00:00:00</td>\n",
       "      <td>PT'S to Go PTS to Go</td>\n",
       "    </tr>\n",
       "    <tr>\n",
       "      <th>4</th>\n",
       "      <td>6055 E Lake Mead Blvd</td>\n",
       "      <td>{'RestaurantsPriceRange2': '2', 'OutdoorSeatin...</td>\n",
       "      <td>YoJt2bvCrYMSSyoeUO-YTg</td>\n",
       "      <td>Sports Bars, Pubs, Nightlife, Bars, Restaurant...</td>\n",
       "      <td>Las Vegas</td>\n",
       "      <td>{'Monday': '0:0-0:0', 'Tuesday': '0:0-0:0', 'W...</td>\n",
       "      <td>1</td>\n",
       "      <td>36.195615</td>\n",
       "      <td>-115.040529</td>\n",
       "      <td>PT's</td>\n",
       "      <td>...</td>\n",
       "      <td>89156-7801</td>\n",
       "      <td>Y</td>\n",
       "      <td>NaN</td>\n",
       "      <td>1</td>\n",
       "      <td>A</td>\n",
       "      <td>3.0</td>\n",
       "      <td>2019-09-19 00:00:00</td>\n",
       "      <td>A</td>\n",
       "      <td>2019-09-19 00:00:00</td>\n",
       "      <td>PT'S Pub PTS Pub</td>\n",
       "    </tr>\n",
       "  </tbody>\n",
       "</table>\n",
       "<p>5 rows × 34 columns</p>\n",
       "</div>"
      ],
      "text/plain": [
       "                 address                                         attributes  \\\n",
       "0  6055 E Lake Mead Blvd  {'BikeParking': 'True', 'BusinessParking': '{'...   \n",
       "1  6055 E Lake Mead Blvd  {'BikeParking': 'True', 'BusinessParking': '{'...   \n",
       "2  6055 E Lake Mead Blvd  {'RestaurantsTakeOut': 'True', 'BusinessAccept...   \n",
       "3  6055 E Lake Mead Blvd  {'RestaurantsTakeOut': 'True', 'BusinessAccept...   \n",
       "4  6055 E Lake Mead Blvd  {'RestaurantsPriceRange2': '2', 'OutdoorSeatin...   \n",
       "\n",
       "              business_id                                         categories  \\\n",
       "0  tstimHoMcYbkSC4eBA1wEg  Mexican, Restaurants, Patisserie/Cake Shop, Fo...   \n",
       "1  tstimHoMcYbkSC4eBA1wEg  Mexican, Restaurants, Patisserie/Cake Shop, Fo...   \n",
       "2  QWgGaMiZ7XxaJ6NMDCSthg                   New Mexican Cuisine, Restaurants   \n",
       "3  QWgGaMiZ7XxaJ6NMDCSthg                   New Mexican Cuisine, Restaurants   \n",
       "4  YoJt2bvCrYMSSyoeUO-YTg  Sports Bars, Pubs, Nightlife, Bars, Restaurant...   \n",
       "\n",
       "        city                                              hours  is_open  \\\n",
       "0  Las Vegas  {'Monday': '11:0-21:0', 'Tuesday': '10:0-21:0'...        1   \n",
       "1  Las Vegas  {'Monday': '11:0-21:0', 'Tuesday': '10:0-21:0'...        1   \n",
       "2  Las Vegas  {'Monday': '9:0-21:0', 'Tuesday': '9:0-21:0', ...        1   \n",
       "3  Las Vegas  {'Monday': '9:0-21:0', 'Tuesday': '9:0-21:0', ...        1   \n",
       "4  Las Vegas  {'Monday': '0:0-0:0', 'Tuesday': '0:0-0:0', 'W...        1   \n",
       "\n",
       "   latitude_x  longitude_x                                 name  \\\n",
       "0   36.195615  -115.040529  Maria's Mexican Restaurant & Bakery   \n",
       "1   36.195615  -115.040529  Maria's Mexican Restaurant & Bakery   \n",
       "2   36.195615  -115.040529                   El Rey Del Machete   \n",
       "3   36.195615  -115.040529                   El Rey Del Machete   \n",
       "4   36.195615  -115.040529                                 PT's   \n",
       "\n",
       "           ...             zip_code  nciaa  plan_review record_status  \\\n",
       "0          ...           89156-7801      Y          NaN             1   \n",
       "1          ...           89156-7801      Y          NaN             1   \n",
       "2          ...           89156-7801      Y          NaN             1   \n",
       "3          ...           89156-7801      Y          NaN             1   \n",
       "4          ...           89156-7801      Y          NaN             1   \n",
       "\n",
       "  current_grade current_demerits         date_current  previous_grade  \\\n",
       "0             A              3.0  2019-09-19 00:00:00               A   \n",
       "1             A              6.0  2019-09-19 00:00:00               A   \n",
       "2             A              3.0  2019-09-19 00:00:00               A   \n",
       "3             A              6.0  2019-09-19 00:00:00               A   \n",
       "4             A              3.0  2019-09-19 00:00:00               A   \n",
       "\n",
       "         date_previous           search_text  \n",
       "0  2019-09-19 00:00:00      PT'S Pub PTS Pub  \n",
       "1  2019-09-19 00:00:00  PT'S to Go PTS to Go  \n",
       "2  2019-09-19 00:00:00      PT'S Pub PTS Pub  \n",
       "3  2019-09-19 00:00:00  PT'S to Go PTS to Go  \n",
       "4  2019-09-19 00:00:00      PT'S Pub PTS Pub  \n",
       "\n",
       "[5 rows x 34 columns]"
      ]
     },
     "execution_count": 15,
     "metadata": {},
     "output_type": "execute_result"
    }
   ],
   "source": [
    "combined_df.head()"
   ]
  },
  {
   "cell_type": "code",
   "execution_count": 9,
   "metadata": {},
   "outputs": [
    {
     "name": "stdout",
     "output_type": "stream",
     "text": [
      "File directory: C:/Users/Lam/Documents/DCS/Capstone 1 Projects/Yelp Inspection Project/yelp_review.csv\n"
     ]
    }
   ],
   "source": [
    "DIR = 'C:/Users/Lam/Documents/DCS/Capstone 1 Projects/Yelp Inspection Project'\n",
    "FILE = '/yelp_review.csv'\n",
    "\n",
    "file = '{}{}'.format(DIR, FILE)\n",
    "\n",
    "print('File directory: {}'.format(file))"
   ]
  },
  {
   "cell_type": "code",
   "execution_count": 10,
   "metadata": {},
   "outputs": [
    {
     "name": "stdout",
     "output_type": "stream",
     "text": [
      "(8651, 42)\n",
      "(17600, 42)\n",
      "(26300, 42)\n",
      "(34954, 42)\n",
      "(43673, 42)\n",
      "(52140, 42)\n",
      "(61095, 42)\n",
      "(70004, 42)\n",
      "(78866, 42)\n",
      "(87791, 42)\n",
      "(96274, 42)\n",
      "(105423, 42)\n",
      "(114497, 42)\n",
      "(123567, 42)\n",
      "(132522, 42)\n",
      "(141670, 42)\n",
      "(150433, 42)\n",
      "(159239, 42)\n",
      "(168462, 42)\n",
      "(177372, 42)\n",
      "(186132, 42)\n",
      "(194668, 42)\n",
      "(203347, 42)\n",
      "(212541, 42)\n",
      "(221267, 42)\n",
      "(230073, 42)\n",
      "(238554, 42)\n",
      "(247105, 42)\n",
      "(255886, 42)\n",
      "(264588, 42)\n",
      "(273371, 42)\n",
      "(282188, 42)\n",
      "(290609, 42)\n",
      "(299202, 42)\n",
      "(307612, 42)\n",
      "(316499, 42)\n",
      "(325295, 42)\n",
      "(334368, 42)\n",
      "(343333, 42)\n",
      "(352160, 42)\n",
      "(360990, 42)\n",
      "(369535, 42)\n",
      "(378271, 42)\n",
      "(386549, 42)\n",
      "(395373, 42)\n",
      "(403985, 42)\n",
      "(412575, 42)\n",
      "(421617, 42)\n",
      "(430382, 42)\n",
      "(439163, 42)\n",
      "(447518, 42)\n",
      "(456019, 42)\n",
      "(461358, 42)\n"
     ]
    }
   ],
   "source": [
    "null_df = pd.DataFrame([])\n",
    "\n",
    "for chunk in pd.read_csv(file, chunksize=100000):\n",
    "    final_df = pd.merge(combined_df, chunk, how = 'inner', left_on = ['business_id'], right_on = ['business_id'])\n",
    "    null_df = null_df.append(final_df, ignore_index=True)\n",
    "    null_df.drop_duplicates(subset = \"review_id\", inplace=True)\n",
    "    print(null_df.shape)\n",
    "    #print(final_df.head())"
   ]
  },
  {
   "cell_type": "code",
   "execution_count": 11,
   "metadata": {},
   "outputs": [
    {
     "data": {
      "text/plain": [
       "Index(['address', 'attributes', 'business_id', 'categories', 'city', 'hours',\n",
       "       'is_open', 'latitude_x', 'longitude_x', 'name', 'postal_code',\n",
       "       'review_count', 'stars_x', 'state', 'permit_number', 'facility_id',\n",
       "       'owner_id', 'PE', 'restaurant_name', 'location_name', 'latitude_y',\n",
       "       'longitude_y', 'city_id', 'city_name', 'zip_code', 'nciaa',\n",
       "       'plan_review', 'record_status', 'current_grade', 'current_demerits',\n",
       "       'date_current', 'previous_grade', 'date_previous', 'search_text',\n",
       "       'review_id', 'user_id', 'stars_y', 'date', 'text', 'useful', 'funny',\n",
       "       'cool'],\n",
       "      dtype='object')"
      ]
     },
     "execution_count": 11,
     "metadata": {},
     "output_type": "execute_result"
    }
   ],
   "source": [
    "null_df.columns"
   ]
  },
  {
   "cell_type": "code",
   "execution_count": 12,
   "metadata": {},
   "outputs": [],
   "source": [
    "shortened_columns = ['business_id', 'name', 'address', 'postal_code', 'current_grade', 'current_demerits', 'date_current','review_id','text','stars_y']"
   ]
  },
  {
   "cell_type": "code",
   "execution_count": 13,
   "metadata": {},
   "outputs": [
    {
     "name": "stderr",
     "output_type": "stream",
     "text": [
      "C:\\Users\\Lam\\Anaconda3\\lib\\site-packages\\ipykernel_launcher.py:2: SettingWithCopyWarning: \n",
      "A value is trying to be set on a copy of a slice from a DataFrame.\n",
      "Try using .loc[row_indexer,col_indexer] = value instead\n",
      "\n",
      "See the caveats in the documentation: http://pandas.pydata.org/pandas-docs/stable/indexing.html#indexing-view-versus-copy\n",
      "  \n"
     ]
    }
   ],
   "source": [
    "story_df = null_df[shortened_columns]\n",
    "story_df['review length'] = story_df['text'].apply(len)"
   ]
  },
  {
   "cell_type": "code",
   "execution_count": 14,
   "metadata": {},
   "outputs": [
    {
     "data": {
      "text/html": [
       "<div>\n",
       "<style scoped>\n",
       "    .dataframe tbody tr th:only-of-type {\n",
       "        vertical-align: middle;\n",
       "    }\n",
       "\n",
       "    .dataframe tbody tr th {\n",
       "        vertical-align: top;\n",
       "    }\n",
       "\n",
       "    .dataframe thead th {\n",
       "        text-align: right;\n",
       "    }\n",
       "</style>\n",
       "<table border=\"1\" class=\"dataframe\">\n",
       "  <thead>\n",
       "    <tr style=\"text-align: right;\">\n",
       "      <th></th>\n",
       "      <th>business_id</th>\n",
       "      <th>name</th>\n",
       "      <th>address</th>\n",
       "      <th>postal_code</th>\n",
       "      <th>current_grade</th>\n",
       "      <th>current_demerits</th>\n",
       "      <th>date_current</th>\n",
       "      <th>review_id</th>\n",
       "      <th>text</th>\n",
       "      <th>stars_y</th>\n",
       "      <th>review length</th>\n",
       "    </tr>\n",
       "  </thead>\n",
       "  <tbody>\n",
       "    <tr>\n",
       "      <th>0</th>\n",
       "      <td>tstimHoMcYbkSC4eBA1wEg</td>\n",
       "      <td>Maria's Mexican Restaurant &amp; Bakery</td>\n",
       "      <td>6055 E Lake Mead Blvd</td>\n",
       "      <td>89156</td>\n",
       "      <td>A</td>\n",
       "      <td>3.0</td>\n",
       "      <td>2019-09-19 00:00:00</td>\n",
       "      <td>pUpR94RE8Ld9FcmJ7ByxJg</td>\n",
       "      <td>Legit Mexican food from a small homey shop.\\nW...</td>\n",
       "      <td>5</td>\n",
       "      <td>1328</td>\n",
       "    </tr>\n",
       "    <tr>\n",
       "      <th>1</th>\n",
       "      <td>tstimHoMcYbkSC4eBA1wEg</td>\n",
       "      <td>Maria's Mexican Restaurant &amp; Bakery</td>\n",
       "      <td>6055 E Lake Mead Blvd</td>\n",
       "      <td>89156</td>\n",
       "      <td>A</td>\n",
       "      <td>3.0</td>\n",
       "      <td>2019-09-19 00:00:00</td>\n",
       "      <td>FNKLKqez8KWqyWB_WJOjow</td>\n",
       "      <td>México lindo y querido, si muero lejos de ti, ...</td>\n",
       "      <td>5</td>\n",
       "      <td>3471</td>\n",
       "    </tr>\n",
       "    <tr>\n",
       "      <th>2</th>\n",
       "      <td>tstimHoMcYbkSC4eBA1wEg</td>\n",
       "      <td>Maria's Mexican Restaurant &amp; Bakery</td>\n",
       "      <td>6055 E Lake Mead Blvd</td>\n",
       "      <td>89156</td>\n",
       "      <td>A</td>\n",
       "      <td>3.0</td>\n",
       "      <td>2019-09-19 00:00:00</td>\n",
       "      <td>8ILxnnktxFKSEXWcj_-6kg</td>\n",
       "      <td>By far the best Mexican Restaurant I've been t...</td>\n",
       "      <td>5</td>\n",
       "      <td>306</td>\n",
       "    </tr>\n",
       "    <tr>\n",
       "      <th>3</th>\n",
       "      <td>tstimHoMcYbkSC4eBA1wEg</td>\n",
       "      <td>Maria's Mexican Restaurant &amp; Bakery</td>\n",
       "      <td>6055 E Lake Mead Blvd</td>\n",
       "      <td>89156</td>\n",
       "      <td>A</td>\n",
       "      <td>3.0</td>\n",
       "      <td>2019-09-19 00:00:00</td>\n",
       "      <td>FeF7GfYMkY5pcvm81uh14g</td>\n",
       "      <td>Anyplace that serves margaritas in pint mugs i...</td>\n",
       "      <td>4</td>\n",
       "      <td>289</td>\n",
       "    </tr>\n",
       "    <tr>\n",
       "      <th>4</th>\n",
       "      <td>tstimHoMcYbkSC4eBA1wEg</td>\n",
       "      <td>Maria's Mexican Restaurant &amp; Bakery</td>\n",
       "      <td>6055 E Lake Mead Blvd</td>\n",
       "      <td>89156</td>\n",
       "      <td>A</td>\n",
       "      <td>3.0</td>\n",
       "      <td>2019-09-19 00:00:00</td>\n",
       "      <td>eYJWULNbAek-KrKdMnEMEg</td>\n",
       "      <td>We enjoy eating at this Mexican Restaurant a c...</td>\n",
       "      <td>4</td>\n",
       "      <td>518</td>\n",
       "    </tr>\n",
       "  </tbody>\n",
       "</table>\n",
       "</div>"
      ],
      "text/plain": [
       "              business_id                                 name  \\\n",
       "0  tstimHoMcYbkSC4eBA1wEg  Maria's Mexican Restaurant & Bakery   \n",
       "1  tstimHoMcYbkSC4eBA1wEg  Maria's Mexican Restaurant & Bakery   \n",
       "2  tstimHoMcYbkSC4eBA1wEg  Maria's Mexican Restaurant & Bakery   \n",
       "3  tstimHoMcYbkSC4eBA1wEg  Maria's Mexican Restaurant & Bakery   \n",
       "4  tstimHoMcYbkSC4eBA1wEg  Maria's Mexican Restaurant & Bakery   \n",
       "\n",
       "                 address postal_code current_grade  current_demerits  \\\n",
       "0  6055 E Lake Mead Blvd       89156             A               3.0   \n",
       "1  6055 E Lake Mead Blvd       89156             A               3.0   \n",
       "2  6055 E Lake Mead Blvd       89156             A               3.0   \n",
       "3  6055 E Lake Mead Blvd       89156             A               3.0   \n",
       "4  6055 E Lake Mead Blvd       89156             A               3.0   \n",
       "\n",
       "          date_current               review_id  \\\n",
       "0  2019-09-19 00:00:00  pUpR94RE8Ld9FcmJ7ByxJg   \n",
       "1  2019-09-19 00:00:00  FNKLKqez8KWqyWB_WJOjow   \n",
       "2  2019-09-19 00:00:00  8ILxnnktxFKSEXWcj_-6kg   \n",
       "3  2019-09-19 00:00:00  FeF7GfYMkY5pcvm81uh14g   \n",
       "4  2019-09-19 00:00:00  eYJWULNbAek-KrKdMnEMEg   \n",
       "\n",
       "                                                text  stars_y  review length  \n",
       "0  Legit Mexican food from a small homey shop.\\nW...        5           1328  \n",
       "1  México lindo y querido, si muero lejos de ti, ...        5           3471  \n",
       "2  By far the best Mexican Restaurant I've been t...        5            306  \n",
       "3  Anyplace that serves margaritas in pint mugs i...        4            289  \n",
       "4  We enjoy eating at this Mexican Restaurant a c...        4            518  "
      ]
     },
     "execution_count": 14,
     "metadata": {},
     "output_type": "execute_result"
    }
   ],
   "source": [
    "story_df.head()"
   ]
  },
  {
   "cell_type": "code",
   "execution_count": 16,
   "metadata": {},
   "outputs": [
    {
     "data": {
      "text/html": [
       "<div>\n",
       "<style scoped>\n",
       "    .dataframe tbody tr th:only-of-type {\n",
       "        vertical-align: middle;\n",
       "    }\n",
       "\n",
       "    .dataframe tbody tr th {\n",
       "        vertical-align: top;\n",
       "    }\n",
       "\n",
       "    .dataframe thead th {\n",
       "        text-align: right;\n",
       "    }\n",
       "</style>\n",
       "<table border=\"1\" class=\"dataframe\">\n",
       "  <thead>\n",
       "    <tr style=\"text-align: right;\">\n",
       "      <th></th>\n",
       "      <th>current_demerits</th>\n",
       "      <th>stars_y</th>\n",
       "      <th>review length</th>\n",
       "    </tr>\n",
       "  </thead>\n",
       "  <tbody>\n",
       "    <tr>\n",
       "      <th>count</th>\n",
       "      <td>461358.000000</td>\n",
       "      <td>461358.000000</td>\n",
       "      <td>461358.000000</td>\n",
       "    </tr>\n",
       "    <tr>\n",
       "      <th>mean</th>\n",
       "      <td>4.460053</td>\n",
       "      <td>3.573383</td>\n",
       "      <td>634.580367</td>\n",
       "    </tr>\n",
       "    <tr>\n",
       "      <th>std</th>\n",
       "      <td>4.152133</td>\n",
       "      <td>1.443918</td>\n",
       "      <td>599.478646</td>\n",
       "    </tr>\n",
       "    <tr>\n",
       "      <th>min</th>\n",
       "      <td>0.000000</td>\n",
       "      <td>1.000000</td>\n",
       "      <td>3.000000</td>\n",
       "    </tr>\n",
       "    <tr>\n",
       "      <th>25%</th>\n",
       "      <td>0.000000</td>\n",
       "      <td>3.000000</td>\n",
       "      <td>243.000000</td>\n",
       "    </tr>\n",
       "    <tr>\n",
       "      <th>50%</th>\n",
       "      <td>4.000000</td>\n",
       "      <td>4.000000</td>\n",
       "      <td>444.000000</td>\n",
       "    </tr>\n",
       "    <tr>\n",
       "      <th>75%</th>\n",
       "      <td>8.000000</td>\n",
       "      <td>5.000000</td>\n",
       "      <td>813.000000</td>\n",
       "    </tr>\n",
       "    <tr>\n",
       "      <th>max</th>\n",
       "      <td>61.000000</td>\n",
       "      <td>5.000000</td>\n",
       "      <td>5039.000000</td>\n",
       "    </tr>\n",
       "  </tbody>\n",
       "</table>\n",
       "</div>"
      ],
      "text/plain": [
       "       current_demerits        stars_y  review length\n",
       "count     461358.000000  461358.000000  461358.000000\n",
       "mean           4.460053       3.573383     634.580367\n",
       "std            4.152133       1.443918     599.478646\n",
       "min            0.000000       1.000000       3.000000\n",
       "25%            0.000000       3.000000     243.000000\n",
       "50%            4.000000       4.000000     444.000000\n",
       "75%            8.000000       5.000000     813.000000\n",
       "max           61.000000       5.000000    5039.000000"
      ]
     },
     "execution_count": 16,
     "metadata": {},
     "output_type": "execute_result"
    }
   ],
   "source": [
    "story_df.describe()"
   ]
  },
  {
   "cell_type": "code",
   "execution_count": 24,
   "metadata": {},
   "outputs": [
    {
     "name": "stdout",
     "output_type": "stream",
     "text": [
      "<class 'pandas.core.frame.DataFrame'>\n",
      "Int64Index: 454810 entries, 0 to 697176\n",
      "Data columns (total 11 columns):\n",
      "business_id         454810 non-null object\n",
      "name                454810 non-null object\n",
      "address             454810 non-null object\n",
      "postal_code         454810 non-null object\n",
      "current_grade       454810 non-null object\n",
      "current_demerits    454810 non-null float64\n",
      "date_current        454810 non-null object\n",
      "review_id           454810 non-null object\n",
      "text                454810 non-null object\n",
      "stars_y             454810 non-null int64\n",
      "review length       454810 non-null int64\n",
      "dtypes: float64(1), int64(2), object(8)\n",
      "memory usage: 41.6+ MB\n"
     ]
    }
   ],
   "source": [
    "A_df = story_df[story_df['current_grade'] == 'A']\n",
    "A_df.info()"
   ]
  },
  {
   "cell_type": "code",
   "execution_count": 30,
   "metadata": {},
   "outputs": [
    {
     "data": {
      "text/html": [
       "<div>\n",
       "<style scoped>\n",
       "    .dataframe tbody tr th:only-of-type {\n",
       "        vertical-align: middle;\n",
       "    }\n",
       "\n",
       "    .dataframe tbody tr th {\n",
       "        vertical-align: top;\n",
       "    }\n",
       "\n",
       "    .dataframe thead th {\n",
       "        text-align: right;\n",
       "    }\n",
       "</style>\n",
       "<table border=\"1\" class=\"dataframe\">\n",
       "  <thead>\n",
       "    <tr style=\"text-align: right;\">\n",
       "      <th></th>\n",
       "      <th>current_demerits</th>\n",
       "      <th>stars_y</th>\n",
       "      <th>review length</th>\n",
       "    </tr>\n",
       "  </thead>\n",
       "  <tbody>\n",
       "    <tr>\n",
       "      <th>count</th>\n",
       "      <td>454810.000000</td>\n",
       "      <td>454810.000000</td>\n",
       "      <td>454810.000000</td>\n",
       "    </tr>\n",
       "    <tr>\n",
       "      <th>mean</th>\n",
       "      <td>4.207630</td>\n",
       "      <td>3.575711</td>\n",
       "      <td>634.667846</td>\n",
       "    </tr>\n",
       "    <tr>\n",
       "      <th>std</th>\n",
       "      <td>3.436696</td>\n",
       "      <td>1.443274</td>\n",
       "      <td>599.629672</td>\n",
       "    </tr>\n",
       "    <tr>\n",
       "      <th>min</th>\n",
       "      <td>0.000000</td>\n",
       "      <td>1.000000</td>\n",
       "      <td>3.000000</td>\n",
       "    </tr>\n",
       "    <tr>\n",
       "      <th>25%</th>\n",
       "      <td>0.000000</td>\n",
       "      <td>3.000000</td>\n",
       "      <td>243.000000</td>\n",
       "    </tr>\n",
       "    <tr>\n",
       "      <th>50%</th>\n",
       "      <td>4.000000</td>\n",
       "      <td>4.000000</td>\n",
       "      <td>444.000000</td>\n",
       "    </tr>\n",
       "    <tr>\n",
       "      <th>75%</th>\n",
       "      <td>8.000000</td>\n",
       "      <td>5.000000</td>\n",
       "      <td>813.000000</td>\n",
       "    </tr>\n",
       "    <tr>\n",
       "      <th>max</th>\n",
       "      <td>31.000000</td>\n",
       "      <td>5.000000</td>\n",
       "      <td>5039.000000</td>\n",
       "    </tr>\n",
       "  </tbody>\n",
       "</table>\n",
       "</div>"
      ],
      "text/plain": [
       "       current_demerits        stars_y  review length\n",
       "count     454810.000000  454810.000000  454810.000000\n",
       "mean           4.207630       3.575711     634.667846\n",
       "std            3.436696       1.443274     599.629672\n",
       "min            0.000000       1.000000       3.000000\n",
       "25%            0.000000       3.000000     243.000000\n",
       "50%            4.000000       4.000000     444.000000\n",
       "75%            8.000000       5.000000     813.000000\n",
       "max           31.000000       5.000000    5039.000000"
      ]
     },
     "execution_count": 30,
     "metadata": {},
     "output_type": "execute_result"
    }
   ],
   "source": [
    "A_mean = A_df['current_demerits'].mean()\n",
    "A_std = A_df['current_demerits'].std()\n",
    "A_revmean = A_df['review length'].mean()\n",
    "A_revstd= A_df['review length'].std()\n",
    "A_df.describe()"
   ]
  },
  {
   "cell_type": "code",
   "execution_count": 25,
   "metadata": {},
   "outputs": [
    {
     "name": "stdout",
     "output_type": "stream",
     "text": [
      "<class 'pandas.core.frame.DataFrame'>\n",
      "Int64Index: 3939 entries, 1959 to 696327\n",
      "Data columns (total 11 columns):\n",
      "business_id         3939 non-null object\n",
      "name                3939 non-null object\n",
      "address             3939 non-null object\n",
      "postal_code         3939 non-null object\n",
      "current_grade       3939 non-null object\n",
      "current_demerits    3939 non-null float64\n",
      "date_current        3939 non-null object\n",
      "review_id           3939 non-null object\n",
      "text                3939 non-null object\n",
      "stars_y             3939 non-null int64\n",
      "review length       3939 non-null int64\n",
      "dtypes: float64(1), int64(2), object(8)\n",
      "memory usage: 369.3+ KB\n"
     ]
    }
   ],
   "source": [
    "B_df = story_df[story_df['current_grade'] == 'B']\n",
    "B_df.info()"
   ]
  },
  {
   "cell_type": "code",
   "execution_count": 31,
   "metadata": {},
   "outputs": [
    {
     "data": {
      "text/html": [
       "<div>\n",
       "<style scoped>\n",
       "    .dataframe tbody tr th:only-of-type {\n",
       "        vertical-align: middle;\n",
       "    }\n",
       "\n",
       "    .dataframe tbody tr th {\n",
       "        vertical-align: top;\n",
       "    }\n",
       "\n",
       "    .dataframe thead th {\n",
       "        text-align: right;\n",
       "    }\n",
       "</style>\n",
       "<table border=\"1\" class=\"dataframe\">\n",
       "  <thead>\n",
       "    <tr style=\"text-align: right;\">\n",
       "      <th></th>\n",
       "      <th>current_demerits</th>\n",
       "      <th>stars_y</th>\n",
       "      <th>review length</th>\n",
       "    </tr>\n",
       "  </thead>\n",
       "  <tbody>\n",
       "    <tr>\n",
       "      <th>count</th>\n",
       "      <td>3939.000000</td>\n",
       "      <td>3939.000000</td>\n",
       "      <td>3939.000000</td>\n",
       "    </tr>\n",
       "    <tr>\n",
       "      <th>mean</th>\n",
       "      <td>18.763392</td>\n",
       "      <td>3.322417</td>\n",
       "      <td>661.187357</td>\n",
       "    </tr>\n",
       "    <tr>\n",
       "      <th>std</th>\n",
       "      <td>2.662851</td>\n",
       "      <td>1.490322</td>\n",
       "      <td>611.488396</td>\n",
       "    </tr>\n",
       "    <tr>\n",
       "      <th>min</th>\n",
       "      <td>8.000000</td>\n",
       "      <td>1.000000</td>\n",
       "      <td>26.000000</td>\n",
       "    </tr>\n",
       "    <tr>\n",
       "      <th>25%</th>\n",
       "      <td>20.000000</td>\n",
       "      <td>2.000000</td>\n",
       "      <td>257.000000</td>\n",
       "    </tr>\n",
       "    <tr>\n",
       "      <th>50%</th>\n",
       "      <td>20.000000</td>\n",
       "      <td>4.000000</td>\n",
       "      <td>471.000000</td>\n",
       "    </tr>\n",
       "    <tr>\n",
       "      <th>75%</th>\n",
       "      <td>20.000000</td>\n",
       "      <td>5.000000</td>\n",
       "      <td>843.000000</td>\n",
       "    </tr>\n",
       "    <tr>\n",
       "      <th>max</th>\n",
       "      <td>20.000000</td>\n",
       "      <td>5.000000</td>\n",
       "      <td>4997.000000</td>\n",
       "    </tr>\n",
       "  </tbody>\n",
       "</table>\n",
       "</div>"
      ],
      "text/plain": [
       "       current_demerits      stars_y  review length\n",
       "count       3939.000000  3939.000000    3939.000000\n",
       "mean          18.763392     3.322417     661.187357\n",
       "std            2.662851     1.490322     611.488396\n",
       "min            8.000000     1.000000      26.000000\n",
       "25%           20.000000     2.000000     257.000000\n",
       "50%           20.000000     4.000000     471.000000\n",
       "75%           20.000000     5.000000     843.000000\n",
       "max           20.000000     5.000000    4997.000000"
      ]
     },
     "execution_count": 31,
     "metadata": {},
     "output_type": "execute_result"
    }
   ],
   "source": [
    "B_mean = B_df['current_demerits'].mean()\n",
    "B_std = B_df['current_demerits'].std()\n",
    "B_revmean = B_df['review length'].mean()\n",
    "B_revstd= B_df['review length'].std()\n",
    "B_df.describe()"
   ]
  },
  {
   "cell_type": "code",
   "execution_count": 26,
   "metadata": {},
   "outputs": [
    {
     "name": "stdout",
     "output_type": "stream",
     "text": [
      "<class 'pandas.core.frame.DataFrame'>\n",
      "Int64Index: 1605 entries, 3416 to 697007\n",
      "Data columns (total 11 columns):\n",
      "business_id         1605 non-null object\n",
      "name                1605 non-null object\n",
      "address             1605 non-null object\n",
      "postal_code         1605 non-null object\n",
      "current_grade       1605 non-null object\n",
      "current_demerits    1605 non-null float64\n",
      "date_current        1605 non-null object\n",
      "review_id           1605 non-null object\n",
      "text                1605 non-null object\n",
      "stars_y             1605 non-null int64\n",
      "review length       1605 non-null int64\n",
      "dtypes: float64(1), int64(2), object(8)\n",
      "memory usage: 150.5+ KB\n"
     ]
    }
   ],
   "source": [
    "C_df = story_df[story_df['current_grade'] == 'C']\n",
    "C_df.info()"
   ]
  },
  {
   "cell_type": "code",
   "execution_count": 32,
   "metadata": {},
   "outputs": [
    {
     "data": {
      "text/html": [
       "<div>\n",
       "<style scoped>\n",
       "    .dataframe tbody tr th:only-of-type {\n",
       "        vertical-align: middle;\n",
       "    }\n",
       "\n",
       "    .dataframe tbody tr th {\n",
       "        vertical-align: top;\n",
       "    }\n",
       "\n",
       "    .dataframe thead th {\n",
       "        text-align: right;\n",
       "    }\n",
       "</style>\n",
       "<table border=\"1\" class=\"dataframe\">\n",
       "  <thead>\n",
       "    <tr style=\"text-align: right;\">\n",
       "      <th></th>\n",
       "      <th>current_demerits</th>\n",
       "      <th>stars_y</th>\n",
       "      <th>review length</th>\n",
       "    </tr>\n",
       "  </thead>\n",
       "  <tbody>\n",
       "    <tr>\n",
       "      <th>count</th>\n",
       "      <td>1605.000000</td>\n",
       "      <td>1605.000000</td>\n",
       "      <td>1605.000000</td>\n",
       "    </tr>\n",
       "    <tr>\n",
       "      <th>mean</th>\n",
       "      <td>30.350156</td>\n",
       "      <td>3.557009</td>\n",
       "      <td>585.855452</td>\n",
       "    </tr>\n",
       "    <tr>\n",
       "      <th>std</th>\n",
       "      <td>5.161072</td>\n",
       "      <td>1.411132</td>\n",
       "      <td>551.976527</td>\n",
       "    </tr>\n",
       "    <tr>\n",
       "      <th>min</th>\n",
       "      <td>20.000000</td>\n",
       "      <td>1.000000</td>\n",
       "      <td>27.000000</td>\n",
       "    </tr>\n",
       "    <tr>\n",
       "      <th>25%</th>\n",
       "      <td>27.000000</td>\n",
       "      <td>3.000000</td>\n",
       "      <td>231.000000</td>\n",
       "    </tr>\n",
       "    <tr>\n",
       "      <th>50%</th>\n",
       "      <td>31.000000</td>\n",
       "      <td>4.000000</td>\n",
       "      <td>415.000000</td>\n",
       "    </tr>\n",
       "    <tr>\n",
       "      <th>75%</th>\n",
       "      <td>36.000000</td>\n",
       "      <td>5.000000</td>\n",
       "      <td>752.000000</td>\n",
       "    </tr>\n",
       "    <tr>\n",
       "      <th>max</th>\n",
       "      <td>36.000000</td>\n",
       "      <td>5.000000</td>\n",
       "      <td>4972.000000</td>\n",
       "    </tr>\n",
       "  </tbody>\n",
       "</table>\n",
       "</div>"
      ],
      "text/plain": [
       "       current_demerits      stars_y  review length\n",
       "count       1605.000000  1605.000000    1605.000000\n",
       "mean          30.350156     3.557009     585.855452\n",
       "std            5.161072     1.411132     551.976527\n",
       "min           20.000000     1.000000      27.000000\n",
       "25%           27.000000     3.000000     231.000000\n",
       "50%           31.000000     4.000000     415.000000\n",
       "75%           36.000000     5.000000     752.000000\n",
       "max           36.000000     5.000000    4972.000000"
      ]
     },
     "execution_count": 32,
     "metadata": {},
     "output_type": "execute_result"
    }
   ],
   "source": [
    "C_mean = C_df['current_demerits'].mean()\n",
    "C_std = C_df['current_demerits'].std()\n",
    "C_revmean = C_df['review length'].mean()\n",
    "C_revstd= C_df['review length'].std()\n",
    "C_df.describe()"
   ]
  },
  {
   "cell_type": "code",
   "execution_count": 27,
   "metadata": {},
   "outputs": [
    {
     "name": "stdout",
     "output_type": "stream",
     "text": [
      "<class 'pandas.core.frame.DataFrame'>\n",
      "Int64Index: 1004 entries, 3964 to 693285\n",
      "Data columns (total 11 columns):\n",
      "business_id         1004 non-null object\n",
      "name                1004 non-null object\n",
      "address             1004 non-null object\n",
      "postal_code         1004 non-null object\n",
      "current_grade       1004 non-null object\n",
      "current_demerits    1004 non-null float64\n",
      "date_current        1004 non-null object\n",
      "review_id           1004 non-null object\n",
      "text                1004 non-null object\n",
      "stars_y             1004 non-null int64\n",
      "review length       1004 non-null int64\n",
      "dtypes: float64(1), int64(2), object(8)\n",
      "memory usage: 94.1+ KB\n"
     ]
    }
   ],
   "source": [
    "X_df = story_df[story_df['current_grade'] == 'X']\n",
    "X_df.info()"
   ]
  },
  {
   "cell_type": "code",
   "execution_count": 33,
   "metadata": {},
   "outputs": [
    {
     "data": {
      "text/html": [
       "<div>\n",
       "<style scoped>\n",
       "    .dataframe tbody tr th:only-of-type {\n",
       "        vertical-align: middle;\n",
       "    }\n",
       "\n",
       "    .dataframe tbody tr th {\n",
       "        vertical-align: top;\n",
       "    }\n",
       "\n",
       "    .dataframe thead th {\n",
       "        text-align: right;\n",
       "    }\n",
       "</style>\n",
       "<table border=\"1\" class=\"dataframe\">\n",
       "  <thead>\n",
       "    <tr style=\"text-align: right;\">\n",
       "      <th></th>\n",
       "      <th>current_demerits</th>\n",
       "      <th>stars_y</th>\n",
       "      <th>review length</th>\n",
       "    </tr>\n",
       "  </thead>\n",
       "  <tbody>\n",
       "    <tr>\n",
       "      <th>count</th>\n",
       "      <td>1004.000000</td>\n",
       "      <td>1004.000000</td>\n",
       "      <td>1004.000000</td>\n",
       "    </tr>\n",
       "    <tr>\n",
       "      <th>mean</th>\n",
       "      <td>21.302789</td>\n",
       "      <td>3.529880</td>\n",
       "      <td>568.457171</td>\n",
       "    </tr>\n",
       "    <tr>\n",
       "      <th>std</th>\n",
       "      <td>17.751580</td>\n",
       "      <td>1.515656</td>\n",
       "      <td>545.657454</td>\n",
       "    </tr>\n",
       "    <tr>\n",
       "      <th>min</th>\n",
       "      <td>0.000000</td>\n",
       "      <td>1.000000</td>\n",
       "      <td>18.000000</td>\n",
       "    </tr>\n",
       "    <tr>\n",
       "      <th>25%</th>\n",
       "      <td>0.000000</td>\n",
       "      <td>2.000000</td>\n",
       "      <td>213.750000</td>\n",
       "    </tr>\n",
       "    <tr>\n",
       "      <th>50%</th>\n",
       "      <td>17.000000</td>\n",
       "      <td>4.000000</td>\n",
       "      <td>386.000000</td>\n",
       "    </tr>\n",
       "    <tr>\n",
       "      <th>75%</th>\n",
       "      <td>25.000000</td>\n",
       "      <td>5.000000</td>\n",
       "      <td>721.750000</td>\n",
       "    </tr>\n",
       "    <tr>\n",
       "      <th>max</th>\n",
       "      <td>61.000000</td>\n",
       "      <td>5.000000</td>\n",
       "      <td>4671.000000</td>\n",
       "    </tr>\n",
       "  </tbody>\n",
       "</table>\n",
       "</div>"
      ],
      "text/plain": [
       "       current_demerits      stars_y  review length\n",
       "count       1004.000000  1004.000000    1004.000000\n",
       "mean          21.302789     3.529880     568.457171\n",
       "std           17.751580     1.515656     545.657454\n",
       "min            0.000000     1.000000      18.000000\n",
       "25%            0.000000     2.000000     213.750000\n",
       "50%           17.000000     4.000000     386.000000\n",
       "75%           25.000000     5.000000     721.750000\n",
       "max           61.000000     5.000000    4671.000000"
      ]
     },
     "execution_count": 33,
     "metadata": {},
     "output_type": "execute_result"
    }
   ],
   "source": [
    "X_mean = X_df['current_demerits'].mean()\n",
    "X_std = X_df['current_demerits'].std()\n",
    "X_revmean = X_df['review length'].mean()\n",
    "X_revstd= X_df['review length'].std()\n",
    "X_df.describe()"
   ]
  },
  {
   "cell_type": "markdown",
   "metadata": {},
   "source": [
    "## Distribution of A"
   ]
  },
  {
   "cell_type": "code",
   "execution_count": 48,
   "metadata": {},
   "outputs": [
    {
     "data": {
      "image/png": "[encoded data removed]",
      "text/plain": [
       "<Figure size 432x288 with 1 Axes>"
      ]
     },
     "metadata": {
      "needs_background": "light"
     },
     "output_type": "display_data"
    }
   ],
   "source": [
    "_ = plt.hist(A_df['review length'], bins=30)\n",
    "_ = plt.xlabel('review length')\n",
    "_ = plt.ylabel('Number of reviews')\n",
    "_ = plt.title('Distribution of review lengths of A grade')"
   ]
  },
  {
   "cell_type": "markdown",
   "metadata": {},
   "source": [
    "## Distribution of B"
   ]
  },
  {
   "cell_type": "code",
   "execution_count": 55,
   "metadata": {},
   "outputs": [
    {
     "data": {
      "image/png": "[encoded data removed]",
      "text/plain": [
       "<Figure size 432x288 with 1 Axes>"
      ]
     },
     "metadata": {
      "needs_background": "light"
     },
     "output_type": "display_data"
    }
   ],
   "source": [
    "_ = plt.hist(B_df['review length'], bins=30)\n",
    "_ = plt.xlabel('review length')\n",
    "_ = plt.ylabel('Number of reviews')\n",
    "_ = plt.title('Distribution of review lengths of B grade')"
   ]
  },
  {
   "cell_type": "markdown",
   "metadata": {},
   "source": [
    "## Distribution of C"
   ]
  },
  {
   "cell_type": "code",
   "execution_count": 56,
   "metadata": {},
   "outputs": [
    {
     "data": {
      "image/png": "[encoded data removed]",
      "text/plain": [
       "<Figure size 432x288 with 1 Axes>"
      ]
     },
     "metadata": {
      "needs_background": "light"
     },
     "output_type": "display_data"
    }
   ],
   "source": [
    "_ = plt.hist(C_df['review length'], bins=30)\n",
    "_ = plt.xlabel('review length')\n",
    "_ = plt.ylabel('Number of reviews')\n",
    "_ = plt.title('Distribution of review lengths of C grade')"
   ]
  },
  {
   "cell_type": "markdown",
   "metadata": {},
   "source": [
    "## Distribution of X"
   ]
  },
  {
   "cell_type": "code",
   "execution_count": 58,
   "metadata": {},
   "outputs": [
    {
     "data": {
      "image/png": "[encoded data removed]",
      "text/plain": [
       "<Figure size 432x288 with 1 Axes>"
      ]
     },
     "metadata": {
      "needs_background": "light"
     },
     "output_type": "display_data"
    }
   ],
   "source": [
    "_ = plt.hist(X_df['review length'], bins=30)\n",
    "_ = plt.xlabel('review length')\n",
    "_ = plt.ylabel('Number of reviews')\n",
    "_ = plt.title('Distribution of review lengths of X grade')"
   ]
  },
  {
   "cell_type": "markdown",
   "metadata": {},
   "source": [
    "## A vs. B"
   ]
  },
  {
   "cell_type": "markdown",
   "metadata": {},
   "source": [
    "Null Hypothesis: Mean of A reviews = Mean of B reviews\n",
    "\n",
    "Alternate Hypothesis: Mean of A reviews != Mean of B reviews"
   ]
  },
  {
   "cell_type": "code",
   "execution_count": 40,
   "metadata": {},
   "outputs": [
    {
     "data": {
      "text/plain": [
       "Ttest_indResult(statistic=-2.763302199270396, pvalue=0.005722204191441517)"
      ]
     },
     "execution_count": 40,
     "metadata": {},
     "output_type": "execute_result"
    }
   ],
   "source": [
    "stats.ttest_ind(A_df['review length'], B_df['review length'])"
   ]
  },
  {
   "cell_type": "markdown",
   "metadata": {},
   "source": [
    "R: As the p-value is < 0.05, I can reject the null hypothesis that the means of A reviews and means of B reviews are equal. "
   ]
  },
  {
   "cell_type": "markdown",
   "metadata": {},
   "source": [
    "## A vs. C"
   ]
  },
  {
   "cell_type": "markdown",
   "metadata": {},
   "source": [
    "Null Hypothesis: Mean of A reviews = Mean of C reviews\n",
    "\n",
    "Alternate Hypothesis: Mean of A reviews != Mean of C reviews"
   ]
  },
  {
   "cell_type": "code",
   "execution_count": 39,
   "metadata": {},
   "outputs": [
    {
     "data": {
      "text/plain": [
       "Ttest_indResult(statistic=3.256387405043191, pvalue=0.0011284790162638732)"
      ]
     },
     "execution_count": 39,
     "metadata": {},
     "output_type": "execute_result"
    }
   ],
   "source": [
    "stats.ttest_ind(A_df['review length'], C_df['review length'])"
   ]
  },
  {
   "cell_type": "markdown",
   "metadata": {},
   "source": [
    "R: As the p-value is < 0.05, I can reject the null hypothesis that the means of A reviews and means of C reviews are equal. "
   ]
  },
  {
   "cell_type": "markdown",
   "metadata": {},
   "source": [
    "## A vs. X"
   ]
  },
  {
   "cell_type": "markdown",
   "metadata": {},
   "source": [
    "Null Hypothesis: Mean of A reviews = Mean of X reviews\n",
    "\n",
    "Alternate Hypothesis: Mean of A reviews != Mean of X reviews"
   ]
  },
  {
   "cell_type": "code",
   "execution_count": 41,
   "metadata": {},
   "outputs": [
    {
     "data": {
      "text/plain": [
       "Ttest_indResult(statistic=3.4955465340603546, pvalue=0.00047313688124454894)"
      ]
     },
     "execution_count": 41,
     "metadata": {},
     "output_type": "execute_result"
    }
   ],
   "source": [
    "stats.ttest_ind(A_df['review length'], X_df['review length'])"
   ]
  },
  {
   "cell_type": "markdown",
   "metadata": {},
   "source": [
    "R: As the p-value < 0.05, I can reject the null hypothesis that the means of A reviews and means of X reviews are equal. "
   ]
  },
  {
   "cell_type": "markdown",
   "metadata": {},
   "source": [
    "## B vs. C"
   ]
  },
  {
   "cell_type": "markdown",
   "metadata": {},
   "source": [
    "Null Hypothesis: Mean of B reviews = Mean of C reviews\n",
    "\n",
    "Alternate Hypothesis: Mean of B reviews != Mean of C reviews"
   ]
  },
  {
   "cell_type": "code",
   "execution_count": 43,
   "metadata": {},
   "outputs": [
    {
     "data": {
      "text/plain": [
       "Ttest_indResult(statistic=4.276327402012331, pvalue=1.931952920595817e-05)"
      ]
     },
     "execution_count": 43,
     "metadata": {},
     "output_type": "execute_result"
    }
   ],
   "source": [
    "stats.ttest_ind(B_df['review length'], C_df['review length'])"
   ]
  },
  {
   "cell_type": "markdown",
   "metadata": {},
   "source": [
    "R: As the p-value < 0.05, I can reject the null hypothesis that the means of B reviews and means of C reviews are equal. "
   ]
  },
  {
   "cell_type": "markdown",
   "metadata": {},
   "source": [
    "## B vs. X"
   ]
  },
  {
   "cell_type": "markdown",
   "metadata": {},
   "source": [
    "Null Hypothesis: Mean of B reviews = Mean of X reviews\n",
    "\n",
    "Alternate Hypothesis: Mean of B reviews != Mean of X reviews"
   ]
  },
  {
   "cell_type": "code",
   "execution_count": 45,
   "metadata": {},
   "outputs": [
    {
     "data": {
      "text/plain": [
       "Ttest_indResult(statistic=4.380952469594762, pvalue=1.2060810007820117e-05)"
      ]
     },
     "execution_count": 45,
     "metadata": {},
     "output_type": "execute_result"
    }
   ],
   "source": [
    "stats.ttest_ind(B_df['review length'], X_df['review length'])"
   ]
  },
  {
   "cell_type": "markdown",
   "metadata": {},
   "source": [
    "R: As the p-value < 0.05, I can reject the null hypothesis that the means of B reviews and means of X reviews are equal. "
   ]
  },
  {
   "cell_type": "markdown",
   "metadata": {},
   "source": [
    "## C vs. X"
   ]
  },
  {
   "cell_type": "markdown",
   "metadata": {},
   "source": [
    "Null Hypothesis: Mean of C reviews = Mean of X reviews\n",
    "\n",
    "Alternate Hypothesis: Mean of C reviews != Mean of X reviews"
   ]
  },
  {
   "cell_type": "code",
   "execution_count": 47,
   "metadata": {},
   "outputs": [
    {
     "data": {
      "text/plain": [
       "Ttest_indResult(statistic=0.7867981187165051, pvalue=0.4314715709457597)"
      ]
     },
     "execution_count": 47,
     "metadata": {},
     "output_type": "execute_result"
    }
   ],
   "source": [
    "stats.ttest_ind(C_df['review length'], X_df['review length'])"
   ]
  },
  {
   "cell_type": "markdown",
   "metadata": {},
   "source": [
    "R: As the p-value > 0.05, I cannot reject the null hypothesis that the means of X reviews and means of X reviews are equal. "
   ]
  },
  {
   "cell_type": "markdown",
   "metadata": {},
   "source": [
    "R: It seems that all grades with the exception of C vs. X are expected to have different mean lengths for reviews. It is not unexpected that C and X have similar review lengths as a C grade is on the border of failing an inspection. "
   ]
  },
  {
   "cell_type": "markdown",
   "metadata": {},
   "source": [
    "## Distribution of Grades"
   ]
  },
  {
   "cell_type": "code",
   "execution_count": 59,
   "metadata": {},
   "outputs": [
    {
     "data": {
      "image/png": "[encoded data removed]",
      "text/plain": [
       "<Figure size 432x288 with 1 Axes>"
      ]
     },
     "metadata": {
      "needs_background": "light"
     },
     "output_type": "display_data"
    }
   ],
   "source": [
    "_ = plt.hist(A_df['review length'], bins=30, alpha=0.5, label='A')\n",
    "_ = plt.hist(B_df['review length'], bins=30, alpha=0.5, label='B')\n",
    "_ = plt.hist(C_df['review length'], bins=30, alpha=0.5, label='C')\n",
    "_ = plt.hist(X_df['review length'], bins=30, alpha=0.5, label='X')\n",
    "_ = plt.xlabel('Review Length')\n",
    "_ = plt.ylabel('Number of Reviews')\n",
    "_ = plt.yscale('log')\n",
    "_ = plt.legend()"
   ]
  },
  {
   "cell_type": "code",
   "execution_count": null,
   "metadata": {},
   "outputs": [],
   "source": []
  }
 ],
 "metadata": {
  "kernelspec": {
   "display_name": "Python 3",
   "language": "python",
   "name": "python3"
  },
  "language_info": {
   "codemirror_mode": {
    "name": "ipython",
    "version": 3
   },
   "file_extension": ".py",
   "mimetype": "text/x-python",
   "name": "python",
   "nbconvert_exporter": "python",
   "pygments_lexer": "ipython3",
   "version": "3.7.1"
  }
 },
 "nbformat": 4,
 "nbformat_minor": 2
}
